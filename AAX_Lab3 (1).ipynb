{
  "nbformat": 4,
  "nbformat_minor": 0,
  "metadata": {
    "colab": {
      "provenance": []
    },
    "kernelspec": {
      "name": "python3",
      "display_name": "Python 3"
    },
    "language_info": {
      "name": "python"
    }
  },
  "cells": [
    {
      "cell_type": "markdown",
      "source": [
        "#ML4Net - Lab 3\n",
        "\n",
        "## Team members\n",
        "\n",
        "Jan Sapé Rivero (266912) | Biel Domingo Grifell (268636) | Francesc Xarrie (266708)\n",
        "\n",
        "## Description\n",
        "\n",
        "In this lab, you will train a time series forecaster using Federated Learning (FL).\n",
        "\n",
        "The dataset you are going to use contains data from multiple APs. In particular, each AP's dataset contains the following features:\n",
        "\n",
        "* `datetime` is the timestamp (date) at which the measurement was taken\n",
        "* `Bytes` is the number of Bytes contributed at the corresponding datetime\n",
        "* `Active Connections` is the number of active connections (users connected to the AP) at the corresponding datetime\n",
        "* `Active Users` is the number of active users at the corresponding datetime\n",
        "* `AP ID` is the ID of the AP where the measurement was taken\n",
        "\n",
        "Original dataset: Chen, W., Lyu, F., Wu, F., Yang, P., & Ren, J. (2021). Flag: Flexible, accurate, and long-time user load prediction in large-scale WiFi system using deep RNN. IEEE Internet of Things Journal, 8(22), 16510-16521.\n",
        "\n",
        "## Instructions\n",
        "\n",
        "*   Follow the steps from this Notebook and complete the proposed exercises.\n",
        "*   Deliver the completed Notebook by uploading it to your Github repository.\n",
        "*   **Submission deadline: 8 June 2025 (EoB).**"
      ],
      "metadata": {
        "id": "ShbB8CxBMSLH"
      }
    },
    {
      "cell_type": "markdown",
      "source": [
        "## Setting up the environment"
      ],
      "metadata": {
        "id": "Lqio72iAuxNJ"
      }
    },
    {
      "cell_type": "markdown",
      "source": [
        "1. Connect your Google Drive"
      ],
      "metadata": {
        "id": "hfR6f_lHpklt"
      }
    },
    {
      "cell_type": "code",
      "source": [
        "from google.colab import drive\n",
        "drive.mount('/content/drive')"
      ],
      "metadata": {
        "id": "Nl_xYKv2oYRb",
        "colab": {
          "base_uri": "https://localhost:8080/"
        },
        "outputId": "b5f8eb87-c551-4d23-bcf2-85039a280ac3"
      },
      "execution_count": null,
      "outputs": [
        {
          "output_type": "stream",
          "name": "stdout",
          "text": [
            "Mounted at /content/drive\n"
          ]
        }
      ]
    },
    {
      "cell_type": "markdown",
      "source": [
        "2. Download the dataset"
      ],
      "metadata": {
        "id": "RQxCHlkswbru"
      }
    },
    {
      "cell_type": "code",
      "source": [
        "!wget https://github.com/fwilhelmi/fwilhelmi.github.io/blob/master/files/datasetLab3.pkl"
      ],
      "metadata": {
        "id": "o6I9dNnpwbUB",
        "collapsed": true,
        "colab": {
          "base_uri": "https://localhost:8080/"
        },
        "outputId": "767adf5f-5ec4-4807-e7ee-e4ebd2662907"
      },
      "execution_count": null,
      "outputs": [
        {
          "output_type": "stream",
          "name": "stdout",
          "text": [
            "--2025-06-04 16:37:48--  https://github.com/fwilhelmi/fwilhelmi.github.io/blob/master/files/datasetLab3.pkl\n",
            "Resolving github.com (github.com)... 140.82.113.4\n",
            "Connecting to github.com (github.com)|140.82.113.4|:443... connected.\n",
            "HTTP request sent, awaiting response... 200 OK\n",
            "Length: unspecified [text/html]\n",
            "Saving to: ‘datasetLab3.pkl.1’\n",
            "\n",
            "datasetLab3.pkl.1       [ <=>                ] 177.37K  --.-KB/s    in 0.05s   \n",
            "\n",
            "2025-06-04 16:37:48 (3.52 MB/s) - ‘datasetLab3.pkl.1’ saved [181622]\n",
            "\n"
          ]
        }
      ]
    },
    {
      "cell_type": "markdown",
      "source": [
        "3. Define the main path of the code"
      ],
      "metadata": {
        "id": "-5ZtSumzuZCy"
      }
    },
    {
      "cell_type": "code",
      "source": [
        "mypath=\"/content/drive/MyDrive/AAX/Lab3\""
      ],
      "metadata": {
        "id": "VYfdaJF-qr5w"
      },
      "execution_count": null,
      "outputs": []
    },
    {
      "cell_type": "markdown",
      "source": [
        "4. Extract the source code to the destination folder"
      ],
      "metadata": {
        "id": "ISnLhobTwh7l"
      }
    },
    {
      "cell_type": "code",
      "source": [
        "cd $mypath"
      ],
      "metadata": {
        "id": "rgEgC4fZwiLf",
        "collapsed": true,
        "colab": {
          "base_uri": "https://localhost:8080/"
        },
        "outputId": "330365b4-a783-4b2f-d697-e474e9e3f170"
      },
      "execution_count": null,
      "outputs": [
        {
          "output_type": "stream",
          "name": "stdout",
          "text": [
            "/content/drive/MyDrive/AAX/Lab3\n"
          ]
        }
      ]
    },
    {
      "cell_type": "markdown",
      "source": [
        "## Loading the data\n",
        "\n",
        "\n"
      ],
      "metadata": {
        "id": "97kVtaWOutFD"
      }
    },
    {
      "cell_type": "markdown",
      "source": [
        "Load the data from the pickle file (https://docs.python.org/3/library/pickle.html) that contains the dataset.\n",
        "\n",
        "**Important:** If you have issues with the dataset after automatically downloading and extracting it, download it and move it manually to the indicated folder."
      ],
      "metadata": {
        "id": "tZ-ATejy308z"
      }
    },
    {
      "cell_type": "code",
      "source": [
        "import pickle\n",
        "import os\n",
        "\n",
        "print(os.getcwd())\n",
        "print(os.path.exists('datasetLab3.pkl'))\n",
        "\n",
        "# Open and load the pickle file\n",
        "try:\n",
        "    with open('datasetLab3.pkl', 'rb') as f:\n",
        "        loaded_data = pickle.load(f)\n",
        "    print(\"Data loaded successfully:\")\n",
        "    print(loaded_data)\n",
        "except FileNotFoundError:\n",
        "    print(\"Error: 'datasetLab3.pkl' not found.\")\n",
        "except Exception as e:\n",
        "    print(f\"An error occurred: {e}\")"
      ],
      "metadata": {
        "id": "Rn9zlRDcenHJ",
        "colab": {
          "base_uri": "https://localhost:8080/"
        },
        "outputId": "86dbb194-00b4-4be0-85d2-8f393c953f56"
      },
      "execution_count": null,
      "outputs": [
        {
          "output_type": "stream",
          "name": "stdout",
          "text": [
            "/content\n",
            "False\n",
            "Error: 'datasetLab3.pkl' not found.\n"
          ]
        }
      ]
    },
    {
      "cell_type": "code",
      "source": [],
      "metadata": {
        "colab": {
          "base_uri": "https://localhost:8080/",
          "height": 38
        },
        "id": "5TrrBsxlVlrs",
        "outputId": "ec63e311-ffc3-4657-efc7-35a0fa8c9254"
      },
      "execution_count": null,
      "outputs": [
        {
          "output_type": "display_data",
          "data": {
            "text/plain": [
              "<IPython.core.display.HTML object>"
            ],
            "text/html": [
              "\n",
              "     <input type=\"file\" id=\"files-0239c0bc-7d8f-4fd0-9cdd-21717d666309\" name=\"files[]\" multiple disabled\n",
              "        style=\"border:none\" />\n",
              "     <output id=\"result-0239c0bc-7d8f-4fd0-9cdd-21717d666309\">\n",
              "      Upload widget is only available when the cell has been executed in the\n",
              "      current browser session. Please rerun this cell to enable.\n",
              "      </output>\n",
              "      <script>// Copyright 2017 Google LLC\n",
              "//\n",
              "// Licensed under the Apache License, Version 2.0 (the \"License\");\n",
              "// you may not use this file except in compliance with the License.\n",
              "// You may obtain a copy of the License at\n",
              "//\n",
              "//      http://www.apache.org/licenses/LICENSE-2.0\n",
              "//\n",
              "// Unless required by applicable law or agreed to in writing, software\n",
              "// distributed under the License is distributed on an \"AS IS\" BASIS,\n",
              "// WITHOUT WARRANTIES OR CONDITIONS OF ANY KIND, either express or implied.\n",
              "// See the License for the specific language governing permissions and\n",
              "// limitations under the License.\n",
              "\n",
              "/**\n",
              " * @fileoverview Helpers for google.colab Python module.\n",
              " */\n",
              "(function(scope) {\n",
              "function span(text, styleAttributes = {}) {\n",
              "  const element = document.createElement('span');\n",
              "  element.textContent = text;\n",
              "  for (const key of Object.keys(styleAttributes)) {\n",
              "    element.style[key] = styleAttributes[key];\n",
              "  }\n",
              "  return element;\n",
              "}\n",
              "\n",
              "// Max number of bytes which will be uploaded at a time.\n",
              "const MAX_PAYLOAD_SIZE = 100 * 1024;\n",
              "\n",
              "function _uploadFiles(inputId, outputId) {\n",
              "  const steps = uploadFilesStep(inputId, outputId);\n",
              "  const outputElement = document.getElementById(outputId);\n",
              "  // Cache steps on the outputElement to make it available for the next call\n",
              "  // to uploadFilesContinue from Python.\n",
              "  outputElement.steps = steps;\n",
              "\n",
              "  return _uploadFilesContinue(outputId);\n",
              "}\n",
              "\n",
              "// This is roughly an async generator (not supported in the browser yet),\n",
              "// where there are multiple asynchronous steps and the Python side is going\n",
              "// to poll for completion of each step.\n",
              "// This uses a Promise to block the python side on completion of each step,\n",
              "// then passes the result of the previous step as the input to the next step.\n",
              "function _uploadFilesContinue(outputId) {\n",
              "  const outputElement = document.getElementById(outputId);\n",
              "  const steps = outputElement.steps;\n",
              "\n",
              "  const next = steps.next(outputElement.lastPromiseValue);\n",
              "  return Promise.resolve(next.value.promise).then((value) => {\n",
              "    // Cache the last promise value to make it available to the next\n",
              "    // step of the generator.\n",
              "    outputElement.lastPromiseValue = value;\n",
              "    return next.value.response;\n",
              "  });\n",
              "}\n",
              "\n",
              "/**\n",
              " * Generator function which is called between each async step of the upload\n",
              " * process.\n",
              " * @param {string} inputId Element ID of the input file picker element.\n",
              " * @param {string} outputId Element ID of the output display.\n",
              " * @return {!Iterable<!Object>} Iterable of next steps.\n",
              " */\n",
              "function* uploadFilesStep(inputId, outputId) {\n",
              "  const inputElement = document.getElementById(inputId);\n",
              "  inputElement.disabled = false;\n",
              "\n",
              "  const outputElement = document.getElementById(outputId);\n",
              "  outputElement.innerHTML = '';\n",
              "\n",
              "  const pickedPromise = new Promise((resolve) => {\n",
              "    inputElement.addEventListener('change', (e) => {\n",
              "      resolve(e.target.files);\n",
              "    });\n",
              "  });\n",
              "\n",
              "  const cancel = document.createElement('button');\n",
              "  inputElement.parentElement.appendChild(cancel);\n",
              "  cancel.textContent = 'Cancel upload';\n",
              "  const cancelPromise = new Promise((resolve) => {\n",
              "    cancel.onclick = () => {\n",
              "      resolve(null);\n",
              "    };\n",
              "  });\n",
              "\n",
              "  // Wait for the user to pick the files.\n",
              "  const files = yield {\n",
              "    promise: Promise.race([pickedPromise, cancelPromise]),\n",
              "    response: {\n",
              "      action: 'starting',\n",
              "    }\n",
              "  };\n",
              "\n",
              "  cancel.remove();\n",
              "\n",
              "  // Disable the input element since further picks are not allowed.\n",
              "  inputElement.disabled = true;\n",
              "\n",
              "  if (!files) {\n",
              "    return {\n",
              "      response: {\n",
              "        action: 'complete',\n",
              "      }\n",
              "    };\n",
              "  }\n",
              "\n",
              "  for (const file of files) {\n",
              "    const li = document.createElement('li');\n",
              "    li.append(span(file.name, {fontWeight: 'bold'}));\n",
              "    li.append(span(\n",
              "        `(${file.type || 'n/a'}) - ${file.size} bytes, ` +\n",
              "        `last modified: ${\n",
              "            file.lastModifiedDate ? file.lastModifiedDate.toLocaleDateString() :\n",
              "                                    'n/a'} - `));\n",
              "    const percent = span('0% done');\n",
              "    li.appendChild(percent);\n",
              "\n",
              "    outputElement.appendChild(li);\n",
              "\n",
              "    const fileDataPromise = new Promise((resolve) => {\n",
              "      const reader = new FileReader();\n",
              "      reader.onload = (e) => {\n",
              "        resolve(e.target.result);\n",
              "      };\n",
              "      reader.readAsArrayBuffer(file);\n",
              "    });\n",
              "    // Wait for the data to be ready.\n",
              "    let fileData = yield {\n",
              "      promise: fileDataPromise,\n",
              "      response: {\n",
              "        action: 'continue',\n",
              "      }\n",
              "    };\n",
              "\n",
              "    // Use a chunked sending to avoid message size limits. See b/62115660.\n",
              "    let position = 0;\n",
              "    do {\n",
              "      const length = Math.min(fileData.byteLength - position, MAX_PAYLOAD_SIZE);\n",
              "      const chunk = new Uint8Array(fileData, position, length);\n",
              "      position += length;\n",
              "\n",
              "      const base64 = btoa(String.fromCharCode.apply(null, chunk));\n",
              "      yield {\n",
              "        response: {\n",
              "          action: 'append',\n",
              "          file: file.name,\n",
              "          data: base64,\n",
              "        },\n",
              "      };\n",
              "\n",
              "      let percentDone = fileData.byteLength === 0 ?\n",
              "          100 :\n",
              "          Math.round((position / fileData.byteLength) * 100);\n",
              "      percent.textContent = `${percentDone}% done`;\n",
              "\n",
              "    } while (position < fileData.byteLength);\n",
              "  }\n",
              "\n",
              "  // All done.\n",
              "  yield {\n",
              "    response: {\n",
              "      action: 'complete',\n",
              "    }\n",
              "  };\n",
              "}\n",
              "\n",
              "scope.google = scope.google || {};\n",
              "scope.google.colab = scope.google.colab || {};\n",
              "scope.google.colab._files = {\n",
              "  _uploadFiles,\n",
              "  _uploadFilesContinue,\n",
              "};\n",
              "})(self);\n",
              "</script> "
            ]
          },
          "metadata": {}
        }
      ]
    },
    {
      "cell_type": "code",
      "source": [
        "\n"
      ],
      "metadata": {
        "colab": {
          "base_uri": "https://localhost:8080/"
        },
        "id": "8VHPJBpjVzQL",
        "outputId": "6b22f706-b39e-432d-a429-b9062a9f42ef"
      },
      "execution_count": null,
      "outputs": [
        {
          "output_type": "stream",
          "name": "stdout",
          "text": [
            "--2025-06-04 14:40:41--  https://raw.githubusercontent.com/fwilhelmi/fwilhelmi.github.io/master/files/datasetLab3.pkl\n",
            "Resolving raw.githubusercontent.com (raw.githubusercontent.com)... 185.199.108.133, 185.199.109.133, 185.199.110.133, ...\n",
            "Connecting to raw.githubusercontent.com (raw.githubusercontent.com)|185.199.108.133|:443... connected.\n",
            "HTTP request sent, awaiting response... 200 OK\n",
            "Length: 7178423 (6.8M) [application/octet-stream]\n",
            "Saving to: ‘datasetLab3.pkl.1’\n",
            "\n",
            "datasetLab3.pkl.1   100%[===================>]   6.85M  --.-KB/s    in 0.09s   \n",
            "\n",
            "2025-06-04 14:40:41 (76.2 MB/s) - ‘datasetLab3.pkl.1’ saved [7178423/7178423]\n",
            "\n",
            "/content/drive/MyDrive/AAX/Lab3\n",
            "/content/drive/MyDrive/AAX/Lab3\n",
            "True\n",
            "An error occurred: invalid load key, '\\x0a'.\n",
            "This might still be an issue with the file contents. Try downloading the file manually and uploading.\n"
          ]
        }
      ]
    },
    {
      "cell_type": "markdown",
      "source": [
        "## EXERCISES"
      ],
      "metadata": {
        "id": "bTAXUX5lN9KF"
      }
    },
    {
      "cell_type": "markdown",
      "source": [
        "### Exercise 1:\n",
        "\n",
        "Analyze the data from the different APs and discuss their properites (stationarity, trends, seasonality).\n",
        "\n",
        "Select 2 or 3 key APs showing different properties and generate:\n",
        "\n",
        "* Line plots (to plot the load vs the time)\n",
        "* Autocorrelation plots (to show the relationship between past and future samples of the load)\n",
        "* An Augmented Dickey-Fuller test (to study the stationarity of the AP)\n",
        "\n"
      ],
      "metadata": {
        "id": "weqFFp6eShJg"
      }
    },
    {
      "cell_type": "code",
      "source": [
        "# (response to exercise 1)\n",
        "\n",
        "import matplotlib.pyplot as plt\n",
        "import pandas as pd\n",
        "import seaborn as sns\n",
        "from statsmodels.tsa.stattools import adfuller\n",
        "from statsmodels.graphics.tsaplots import plot_acf\n",
        "\n",
        "df.index = pd.to_datetime(df.index)\n",
        "print(\"Available APs:\", df['AP ID'].unique())\n",
        "\n",
        "# Select 2–3 APs with potentially different characteristics\n",
        "selected_aps = ['7-1012', '7-104', '7-1003'] # Replace with actual AP IDs of interest\n",
        "for ap_id in selected_aps:\n",
        "    ap_df = df[df['AP ID'] == ap_id]\n",
        "    series = ap_df['Bytes']  # Or 'Active Connections' if preferred\n",
        "    series = series.dropna()\n",
        "\n",
        "    # Plot 1: Line plot\n",
        "    plt.figure(figsize=(12, 4))\n",
        "    plt.plot(series)\n",
        "    plt.title(f\"Bytes over Time - AP {ap_id}\")\n",
        "    plt.xlabel(\"Time\")\n",
        "    plt.ylabel(\"Bytes\")\n",
        "    plt.grid(True)\n",
        "    plt.show()\n",
        "\n",
        "    # Plot 2: Autocorrelation\n",
        "    plt.figure(figsize=(10, 4))\n",
        "    plot_acf(series, lags=50)\n",
        "    plt.title(f\"Autocorrelation - AP {ap_id}\")\n",
        "    plt.show()\n",
        "\n",
        "    # Test 3: ADF Test\n",
        "    result = adfuller(series)\n",
        "    print(f\"\\nADF Test for AP {ap_id}\")\n",
        "    print(f\"Test Statistic: {result[0]}\")\n",
        "    print(f\"P-value: {result[1]}\")\n",
        "    print(\"Critical Values:\")\n",
        "    for key, value in result[4].items():\n",
        "        print(f\"   {key}: {value}\")\n",
        "    if result[1] < 0.05:\n",
        "        print(\"→ Likely stationary (reject H0)\")\n",
        "    else:\n",
        "        print(\"→ Likely non-stationary (fail to reject H0)\")\n"
      ],
      "metadata": {
        "id": "o3tirZCOSkNC",
        "colab": {
          "base_uri": "https://localhost:8080/",
          "height": 1000
        },
        "outputId": "843a95d1-9889-4211-9cd3-e6f16ef314d8"
      },
      "execution_count": null,
      "outputs": [
        {
          "output_type": "stream",
          "name": "stdout",
          "text": [
            "Available APs: ['7-1012' '7-1013' '7-1021' '7-1043' '7-1019' '7-1071' '7-1113' '7-1048'\n",
            " '7-1101' '7-1026' '7-1129' '7-112' '7-100' '7-111' '7-1030' '7-1117'\n",
            " '7-1126' '7-1099' '7-1052' '7-1087' '7-108' '7-1022' '7-1018' '7-1059'\n",
            " '7-1054' '7-110' '7-1058' '7-1094' '7-1064' '7-102' '7-1044' '7-1002'\n",
            " '7-1096' '7-1014' '7-1082' '7-1088' '7-1106' '7-1063' '7-1114' '7-1137'\n",
            " '7-1004' '7-1045' '7-1125' '7-1036' '7-1124' '7-1034' '7-1083' '7-1072'\n",
            " '7-1033' '7-1069' '7-1127' '7-1005' '7-1130' '7-1047' '7-1020' '7-1066'\n",
            " '7-1039' '7-1134' '7-1003' '7-1120' '7-1131' '7-1009' '7-1084' '7-1074'\n",
            " '7-1062' '7-1025' '7-1089' '7-1098' '7-1006' '7-1139' '7-10' '7-1133'\n",
            " '7-1060' '7-1032' '7-106' '7-1057' '7-101' '7-1102' '7-1085' '7-1053'\n",
            " '7-107' '7-1121' '7-1023' '7-1097' '7-1050' '7-1037' '7-11' '7-1136'\n",
            " '7-1040' '7-1015' '7-1079' '7-1065' '7-1104' '7-105' '7-103' '7-1100'\n",
            " '7-1056' '7-1051' '7-114' '7-104']\n"
          ]
        },
        {
          "output_type": "display_data",
          "data": {
            "text/plain": [
              "<Figure size 1200x400 with 1 Axes>"
            ],
            "image/png": "[encoded data removed]"
          },
          "metadata": {}
        },
        {
          "output_type": "display_data",
          "data": {
            "text/plain": [
              "<Figure size 1000x400 with 0 Axes>"
            ]
          },
          "metadata": {}
        },
        {
          "output_type": "display_data",
          "data": {
            "text/plain": [
              "<Figure size 640x480 with 1 Axes>"
            ],
            "image/png": "[encoded data removed]"
          },
          "metadata": {}
        },
        {
          "output_type": "stream",
          "name": "stdout",
          "text": [
            "\n",
            "ADF Test for AP 7-1012\n",
            "Test Statistic: -8.010830846299886\n",
            "P-value: 2.2037624493905606e-12\n",
            "Critical Values:\n",
            "   1%: -3.4335517248444334\n",
            "   5%: -2.8629543667432555\n",
            "   10%: -2.567522945522803\n",
            "→ Likely stationary (reject H0)\n"
          ]
        },
        {
          "output_type": "display_data",
          "data": {
            "text/plain": [
              "<Figure size 1200x400 with 1 Axes>"
            ],
            "image/png": "[encoded data removed]"
          },
          "metadata": {}
        },
        {
          "output_type": "display_data",
          "data": {
            "text/plain": [
              "<Figure size 1000x400 with 0 Axes>"
            ]
          },
          "metadata": {}
        },
        {
          "output_type": "display_data",
          "data": {
            "text/plain": [
              "<Figure size 640x480 with 1 Axes>"
            ],
            "image/png": "[encoded data removed]"
          },
          "metadata": {}
        },
        {
          "output_type": "stream",
          "name": "stdout",
          "text": [
            "\n",
            "ADF Test for AP 7-104\n",
            "Test Statistic: -5.85061396572009\n",
            "P-value: 3.5966825072785737e-07\n",
            "Critical Values:\n",
            "   1%: -3.4334842047036167\n",
            "   5%: -2.8629245552811486\n",
            "   10%: -2.5675070726005353\n",
            "→ Likely stationary (reject H0)\n"
          ]
        },
        {
          "output_type": "display_data",
          "data": {
            "text/plain": [
              "<Figure size 1200x400 with 1 Axes>"
            ],
            "image/png": "[encoded data removed]"
          },
          "metadata": {}
        },
        {
          "output_type": "display_data",
          "data": {
            "text/plain": [
              "<Figure size 1000x400 with 0 Axes>"
            ]
          },
          "metadata": {}
        },
        {
          "output_type": "display_data",
          "data": {
            "text/plain": [
              "<Figure size 640x480 with 1 Axes>"
            ],
            "image/png": "[encoded data removed]"
          },
          "metadata": {}
        },
        {
          "output_type": "stream",
          "name": "stdout",
          "text": [
            "\n",
            "ADF Test for AP 7-1003\n",
            "Test Statistic: -8.676131800960338\n",
            "P-value: 4.4112497444884645e-14\n",
            "Critical Values:\n",
            "   1%: -3.4333083829182174\n",
            "   5%: -2.8628469233690756\n",
            "   10%: -2.567465738507758\n",
            "→ Likely stationary (reject H0)\n"
          ]
        }
      ]
    },
    {
      "cell_type": "markdown",
      "source": [
        "Access Point 7-1012 shows a relatively quiet behavior with most of the time series staying close to zero, interrupted occasionally by strong, isolated spikes in data usage. These sharp increases may indicate brief but intense periods of activity, possibly due to short-term events like downloads or specific user actions. Overall, there is no clear upward or downward trend, nor any repeating pattern over time. This suggests a lack of seasonality or long-term trend in the usage behavior. The autocorrelation plot for AP 7-1012 confirms that there is not much correlation between time points, especially as the lag increases. The first few lags show some correlation, but it quickly decays to near zero. This rapid drop implies that the series is not highly dependent on past values, which is consistent with the sudden and irregular spikes seen in the line plot. The Augmented Dickey-Fuller (ADF) test result supports the idea that this time series is stationary. The very low p-value and a test statistic significantly below all critical values allow us to reject the null hypothesis of non-stationarity. This means that the statistical properties, like the mean and variance, are stable over time despite the irregular bursts of traffic.\n",
        "\n",
        "AP 7-104 presents a very different pattern. Its time series begins with a few extremely high values that dominate the early part of the plot, followed by a noticeable drop and a more stable but still somewhat spiky usage pattern. These initial peaks might be anomalies or related to unusual events. After that, the series seems to settle into a lower, more consistent range of activity, although occasional bursts still occur. The autocorrelation plot for AP 7-104 is very different from that of AP 7-1012. It shows a slow and steady decline, which suggests strong persistence over time. In other words, values in the series are closely related to their recent past, and this relationship gradually fades as the lag increases. This kind of behavior often hints at underlying patterns, trends, or cycles, even though the trend might not be visually obvious in the line plot due to the dominating early spikes.The ADF test for AP 7-104 again indicates stationarity. Although the time series appears less stable at the beginning, the overall statistical properties seem to remain consistent enough across the period to pass the stationarity test. It’s worth noting, however, that the high initial values may still influence modeling and should possibly be treated as outliers depending on context.\n",
        "\n",
        "Finally, AP 7-1003 shows the most regular and busy pattern of the three. The line plot has a lot of variation and consistent activity throughout the full time period, with frequent medium-to-large spikes in byte usage. This reflects an environment where data traffic is actively fluctuating and where multiple users or devices might be contributing to regular usage changes.The autocorrelation plot for AP 7-1003 exhibits a smooth, gradually decreasing trend, which is typical for time series with strong temporal dependencies. This means that the usage at one time is a good predictor of usage in the near future, making it more predictable compared to AP 7-1012. Such behavior suggests the presence of some underlying regularity, possibly due to repeated user behavior, usage patterns, or scheduled activities.As with the other two APs, the ADF test for AP 7-1003 also confirms stationarity. Despite the visual complexity of the time series, the mean and variance appear stable over time, making it suitable for time series modeling. The result shows a very low p-value and a test statistic far below the critical values, which strongly supports rejecting the null hypothesis of non-stationarity.\n",
        "\n",
        "In summary, these three APs show clearly different behaviors: AP 7-1012 is mostly quiet with occasional bursts, AP 7-104 is dominated by a few extreme values followed by low activity, and AP 7-1003 is consistently dynamic with a strong temporal pattern. All three pass the ADF test, meaning they can be considered stationary and appropriate for modeling using standard time series techniques."
      ],
      "metadata": {
        "id": "xeXjjcMxhxM5"
      }
    },
    {
      "cell_type": "markdown",
      "source": [
        "### Exercise 2:\n",
        "\n",
        "Prepare the data to be presented as a time series to the ML model. For that, you will have to split features from samples by differentiating between an observation window (e.g., 10 samples) and a prediction window (e.g., 2 samples). Use a sliding window to iterate over all the samples.\n",
        "\n",
        "Example: For an array [0,1,2,3,4,5], using an observation window $T_o$ = 3 and a prediction window $T_p$ = 1 would lead to the following time series data:\n",
        "* $x_1$ = [0,1,2], $y_1$ = [3]\n",
        "* $x_2$ = [1,2,3], $x_2$ = [4]\n",
        "* $x_3$ = [2,3,4], $y_3$ = [5]\n",
        "\n",
        "(where x are the features and y the labels)"
      ],
      "metadata": {
        "id": "E3vAU830SmuR"
      }
    },
    {
      "cell_type": "code",
      "source": [
        "# (response to exercise 2)\n",
        "import numpy as np\n",
        "\n",
        "def create_sliding_windows(series, To, Tp):\n",
        "    \"\"\"\n",
        "    Converts a univariate time series into sliding window input-output pairs.\n",
        "\n",
        "    Parameters:\n",
        "    - series: 1D array-like (list, NumPy array, or pd.Series)\n",
        "    - To: observation window size (number of input time steps)\n",
        "    - Tp: prediction window size (number of output time steps)\n",
        "\n",
        "    Returns:\n",
        "    - X: numpy array of shape (n_samples, To)\n",
        "    - Y: numpy array of shape (n_samples, Tp)\n",
        "    \"\"\"\n",
        "    series = np.array(series)\n",
        "    X, Y = [], []\n",
        "\n",
        "    total_length = len(series)\n",
        "    for i in range(total_length - To - Tp + 1):\n",
        "        x_i = series[i:i+To]\n",
        "        y_i = series[i+To:i+To+Tp]\n",
        "        X.append(x_i)\n",
        "        Y.append(y_i)\n",
        "\n",
        "    return np.array(X), np.array(Y)\n"
      ],
      "metadata": {
        "id": "PTjjIcWDS3yC"
      },
      "execution_count": null,
      "outputs": []
    },
    {
      "cell_type": "markdown",
      "source": [
        "### Exercise 3:\n",
        "\n",
        "Split the time series data into train, test, and validation, based on your criteria."
      ],
      "metadata": {
        "id": "7hgfWEriSpMa"
      }
    },
    {
      "cell_type": "code",
      "source": [
        "# (response to exercise 3)\n",
        "def split_time_series(X, Y, train_ratio, val_ratio):\n",
        "    \"\"\"\n",
        "    Splits X and Y into train, validation, and test sets chronologically.\n",
        "\n",
        "    Parameters:\n",
        "    - X: np.array, shape (samples, features)\n",
        "    - Y: np.array, shape (samples, targets)\n",
        "    - train_ratio: float, portion for training\n",
        "    - val_ratio: float, portion for validation\n",
        "\n",
        "    Returns:\n",
        "    - (X_train, Y_train), (X_val, Y_val), (X_test, Y_test)\n",
        "    \"\"\"\n",
        "    total = len(X)\n",
        "    train_end = int(total * train_ratio)\n",
        "    val_end = int(total * (train_ratio + val_ratio))\n",
        "\n",
        "    X_train, Y_train = X[:train_end], Y[:train_end]\n",
        "    X_val, Y_val = X[train_end:val_end], Y[train_end:val_end]\n",
        "    X_test, Y_test = X[val_end:], Y[val_end:]\n",
        "\n",
        "    return (X_train, Y_train), (X_val, Y_val), (X_test, Y_test)\n"
      ],
      "metadata": {
        "id": "PqgnnqflZ8R3"
      },
      "execution_count": null,
      "outputs": []
    },
    {
      "cell_type": "markdown",
      "source": [
        "### Exercise 4:\n",
        "Define a model (e.g., GRU, LSTM, CNN, Transformer) able to receive the time series the data you generated in the previous exercise."
      ],
      "metadata": {
        "id": "zGXDiQQEZ5vL"
      }
    },
    {
      "cell_type": "markdown",
      "source": [
        "We will define an LSTM model using PyTorch. LSTMs are specifically designed to handle sequential data with temporal dependencies, so they are good for time series forecasting tasks like predicting future WiFi load. Unlike basic feedforward networks, LSTMs can learn from patterns over time, remembering important context across previous steps, which is essential when the prediction depends on past behavior across multiple timesteps.LSTMs also handle irregular patterns and long-range dependencies better than simpler RNNs, while being less resource-intensive and complex than full Transformer-based models — which might be excessive for short prediction windows and relatively small datasets like individual AP traces."
      ],
      "metadata": {
        "id": "rupFsXmuibOX"
      }
    },
    {
      "cell_type": "code",
      "source": [
        "# (response to exercise 4)\n",
        "import torch\n",
        "import torch.nn as nn\n",
        "\n",
        "class LSTMForecaster(nn.Module):\n",
        "    def __init__(self, input_size=1, hidden_size=64, num_layers=2, output_size=1, Tp=2):\n",
        "        super(LSTMForecaster, self).__init__()\n",
        "        self.lstm = nn.LSTM(input_size, hidden_size, num_layers, batch_first=True)\n",
        "        self.fc = nn.Linear(hidden_size, Tp)\n",
        "\n",
        "    def forward(self, x):\n",
        "        # x shape: (batch_size, sequence_length, input_size)\n",
        "        out, _ = self.lstm(x)\n",
        "        # Take only last output in the sequence\n",
        "        out = out[:, -1, :]  # shape: (batch_size, hidden_size)\n",
        "        out = self.fc(out)   # shape: (batch_size, Tp)\n",
        "        return out\n"
      ],
      "metadata": {
        "id": "8AhYwVhNfWGA"
      },
      "execution_count": null,
      "outputs": []
    },
    {
      "cell_type": "markdown",
      "source": [
        "### Exercise 5:\n",
        "\n",
        "Train your model following two approaches:\n",
        "1. **Centralized model training:** Mix data from multiple APs to train the model in a centralized fashion.\n",
        "2. **Federated model training:** Consider APs as independent clients who contribute to training a global model by submitting local model updates.\n",
        "\n",
        "Show the results by calculating the following metrics from the de-normalized data:\n",
        "* Mean squared error (MSE)\n",
        "* Mean absolute error (MAE)\n",
        "* Mean absolute percentage error (MAPE)"
      ],
      "metadata": {
        "id": "Uy_SulYKeEn4"
      }
    },
    {
      "cell_type": "code",
      "source": [
        "# (response to exercise 5)\n",
        "import torch\n",
        "import torch.nn as nn\n",
        "import torch.optim as optim\n",
        "from sklearn.metrics import mean_squared_error, mean_absolute_error\n",
        "import numpy as np\n",
        "\n",
        "To = 10  # observation window\n",
        "Tp = 2   # prediction window\n",
        "\n",
        "def normalize_series(series):\n",
        "    mean = np.mean(series)\n",
        "    std = np.std(series) if np.std(series) > 0 else 1\n",
        "    return (series - mean) / std, mean, std\n",
        "\n",
        "def create_sliding_windows(series, To=10, Tp=2):\n",
        "    X, Y = [], []\n",
        "    for i in range(len(series) - To - Tp + 1):\n",
        "        X.append(series[i:i+To])\n",
        "        Y.append(series[i+To:i+To+Tp])\n",
        "    return np.array(X), np.array(Y)\n",
        "\n",
        "# Prepare all data centrally\n",
        "X_all, Y_all = [], []\n",
        "means_stds = {}\n",
        "\n",
        "for ap_id in df['AP ID'].unique():\n",
        "    ap_df = df[df['AP ID'] == ap_id]\n",
        "    series = ap_df['Bytes'].values\n",
        "    norm_series, mean, std = normalize_series(series)\n",
        "    X, Y = create_sliding_windows(norm_series, To, Tp)\n",
        "\n",
        "    if len(X) > 0:\n",
        "        X_all.append(X)\n",
        "        Y_all.append(Y)\n",
        "        means_stds[ap_id] = (mean, std)\n",
        "\n",
        "X_all = np.concatenate(X_all)\n",
        "Y_all = np.concatenate(Y_all)\n",
        "\n",
        "# Split data (time-aware)\n",
        "(X_train, Y_train), (X_val, Y_val), (X_test, Y_test) = split_time_series(X_all, Y_all, train_ratio=0.8, val_ratio=0.1)\n",
        "\n",
        "X_train_t = torch.tensor(X_train, dtype=torch.float32).unsqueeze(-1)\n",
        "Y_train_t = torch.tensor(Y_train, dtype=torch.float32)\n",
        "X_val_t = torch.tensor(X_val, dtype=torch.float32).unsqueeze(-1)\n",
        "Y_val_t = torch.tensor(Y_val, dtype=torch.float32)\n",
        "X_test_t = torch.tensor(X_test, dtype=torch.float32).unsqueeze(-1)\n",
        "Y_test_t = torch.tensor(Y_test, dtype=torch.float32)\n",
        "\n",
        "# Define and train LSTM\n",
        "model = LSTMForecaster(input_size=1, hidden_size=64, num_layers=2, Tp=Tp)\n",
        "criterion = nn.MSELoss()\n",
        "optimizer = optim.Adam(model.parameters(), lr=0.001)\n",
        "\n",
        "epochs = 5\n",
        "for epoch in range(epochs):\n",
        "    model.train()\n",
        "    optimizer.zero_grad()\n",
        "    output = model(X_train_t)\n",
        "    loss = criterion(output, Y_train_t)\n",
        "    loss.backward()\n",
        "    optimizer.step()\n",
        "\n",
        "    model.eval()\n",
        "    with torch.no_grad():\n",
        "        val_loss = criterion(model(X_val_t), Y_val_t).item()\n",
        "    print(f\"Epoch {epoch+1}/{epochs} | Train Loss: {loss.item():.4f} | Val Loss: {val_loss:.4f}\")\n",
        "\n",
        "# Evaluation on test set\n",
        "model.eval()\n",
        "with torch.no_grad():\n",
        "    preds = model(X_test_t).numpy()\n",
        "\n",
        "# De-normalize predictions and targets (approximate using average mean/std)\n",
        "mean_all = np.mean([m for m, s in means_stds.values()])\n",
        "std_all = np.mean([s for m, s in means_stds.values()])\n",
        "preds_denorm = preds * std_all + mean_all\n",
        "Y_test_denorm = Y_test * std_all + mean_all\n",
        "\n",
        "# Compute evaluation metrics\n",
        "mse = mean_squared_error(Y_test_denorm, preds_denorm)\n",
        "mae = mean_absolute_error(Y_test_denorm, preds_denorm)\n",
        "mape = np.mean(np.abs((Y_test_denorm - preds_denorm) / (Y_test_denorm + 1e-8))) * 100\n",
        "\n",
        "print(f\"Centralized Evaluation Metrics:\")\n",
        "print(f\"  MSE  = {mse:.4f}\")\n",
        "print(f\"  MAE  = {mae:.4f}\")\n",
        "print(f\"  MAPE = {mape:.2f}%\")\n"
      ],
      "metadata": {
        "id": "TB4TAqiAeNXk",
        "colab": {
          "base_uri": "https://localhost:8080/",
          "height": 211
        },
        "outputId": "8cef224a-b5aa-46df-daca-9297aa860ba1"
      },
      "execution_count": null,
      "outputs": [
        {
          "output_type": "error",
          "ename": "NameError",
          "evalue": "name 'df' is not defined",
          "traceback": [
            "\u001b[0;31m---------------------------------------------------------------------------\u001b[0m",
            "\u001b[0;31mNameError\u001b[0m                                 Traceback (most recent call last)",
            "\u001b[0;32m<ipython-input-1-e74f810252bb>\u001b[0m in \u001b[0;36m<cell line: 0>\u001b[0;34m()\u001b[0m\n\u001b[1;32m     25\u001b[0m \u001b[0mmeans_stds\u001b[0m \u001b[0;34m=\u001b[0m \u001b[0;34m{\u001b[0m\u001b[0;34m}\u001b[0m\u001b[0;34m\u001b[0m\u001b[0;34m\u001b[0m\u001b[0m\n\u001b[1;32m     26\u001b[0m \u001b[0;34m\u001b[0m\u001b[0m\n\u001b[0;32m---> 27\u001b[0;31m \u001b[0;32mfor\u001b[0m \u001b[0map_id\u001b[0m \u001b[0;32min\u001b[0m \u001b[0mdf\u001b[0m\u001b[0;34m[\u001b[0m\u001b[0;34m'AP ID'\u001b[0m\u001b[0;34m]\u001b[0m\u001b[0;34m.\u001b[0m\u001b[0munique\u001b[0m\u001b[0;34m(\u001b[0m\u001b[0;34m)\u001b[0m\u001b[0;34m:\u001b[0m\u001b[0;34m\u001b[0m\u001b[0;34m\u001b[0m\u001b[0m\n\u001b[0m\u001b[1;32m     28\u001b[0m     \u001b[0map_df\u001b[0m \u001b[0;34m=\u001b[0m \u001b[0mdf\u001b[0m\u001b[0;34m[\u001b[0m\u001b[0mdf\u001b[0m\u001b[0;34m[\u001b[0m\u001b[0;34m'AP ID'\u001b[0m\u001b[0;34m]\u001b[0m \u001b[0;34m==\u001b[0m \u001b[0map_id\u001b[0m\u001b[0;34m]\u001b[0m\u001b[0;34m\u001b[0m\u001b[0;34m\u001b[0m\u001b[0m\n\u001b[1;32m     29\u001b[0m     \u001b[0mseries\u001b[0m \u001b[0;34m=\u001b[0m \u001b[0map_df\u001b[0m\u001b[0;34m[\u001b[0m\u001b[0;34m'Bytes'\u001b[0m\u001b[0;34m]\u001b[0m\u001b[0;34m.\u001b[0m\u001b[0mvalues\u001b[0m\u001b[0;34m\u001b[0m\u001b[0;34m\u001b[0m\u001b[0m\n",
            "\u001b[0;31mNameError\u001b[0m: name 'df' is not defined"
          ]
        }
      ]
    },
    {
      "cell_type": "code",
      "source": [
        "import copy\n",
        "import numpy as np\n",
        "import torch\n",
        "import torch.nn as nn\n",
        "from sklearn.metrics import mean_squared_error, mean_absolute_error\n",
        "\n",
        "\n",
        "###Result not\n",
        "# Assuming df, To=10, Tp=2, normalize_series(), create_sliding_windows(), LSTMForecaster are defined\n",
        "\n",
        "# 1. Prepare client data: sliding windows + normalization per AP\n",
        "client_data = {}\n",
        "for ap_id in df['AP ID'].unique():\n",
        "    ap_df = df[df['AP ID'] == ap_id]\n",
        "    series = ap_df['Bytes'].values\n",
        "    if len(series) < To + Tp:\n",
        "        continue\n",
        "    mean = np.mean(series)\n",
        "    std = np.std(series) if np.std(series) > 0 else 1\n",
        "    norm_series = (series - mean) / std\n",
        "    X, Y = create_sliding_windows(norm_series, To, Tp)\n",
        "    if len(X) > 0:\n",
        "        client_data[ap_id] = {\n",
        "            \"X\": torch.tensor(X, dtype=torch.float32).unsqueeze(-1),\n",
        "            \"Y\": torch.tensor(Y, dtype=torch.float32),\n",
        "            \"mean\": mean,\n",
        "            \"std\": std\n",
        "        }\n",
        "\n",
        "# 2. Local training function (one epoch per client per round)\n",
        "def train_local(model, X, Y, epochs=1, lr=0.001):\n",
        "    local_model = copy.deepcopy(model)\n",
        "    criterion = nn.MSELoss()\n",
        "    optimizer = torch.optim.Adam(local_model.parameters(), lr=lr)\n",
        "    local_model.train()\n",
        "    for _ in range(epochs):\n",
        "        optimizer.zero_grad()\n",
        "        output = local_model(X)\n",
        "        loss = criterion(output, Y)\n",
        "        loss.backward()\n",
        "        optimizer.step()\n",
        "    return local_model.state_dict()\n",
        "\n",
        "# 3. Federated averaging of weights\n",
        "def average_weights(w_list):\n",
        "    avg = copy.deepcopy(w_list[0])\n",
        "    for key in avg.keys():\n",
        "        for w in w_list[1:]:\n",
        "            avg[key] += w[key]\n",
        "        avg[key] = avg[key] / len(w_list)\n",
        "    return avg\n",
        "\n",
        "# 4. Initialize global model\n",
        "global_model = LSTMForecaster(input_size=1, hidden_size=64, num_layers=2, Tp=Tp)\n",
        "\n",
        "# 5. Federated training loop\n",
        "rounds = 5\n",
        "for r in range(rounds):\n",
        "    local_weights = []\n",
        "    print(f\"\\n🌐 Federated Round {r+1}/{rounds}\")\n",
        "    for ap_id, data in client_data.items():\n",
        "        weights = train_local(global_model, data[\"X\"], data[\"Y\"], epochs=1)\n",
        "        local_weights.append(weights)\n",
        "        print(f\"✔️ Client {ap_id} trained\")\n",
        "    # Aggregate local weights to update global model\n",
        "    global_model.load_state_dict(average_weights(local_weights))\n",
        "\n",
        "# 6. Evaluate global model on all clients\n",
        "global_model.eval()\n",
        "mse_list, mae_list, mape_list = [], [], []\n",
        "for ap_id, data in client_data.items():\n",
        "    X, Y = data[\"X\"], data[\"Y\"]\n",
        "    mean, std = data[\"mean\"], data[\"std\"]\n",
        "    with torch.no_grad():\n",
        "        preds = global_model(X).numpy()\n",
        "        true = Y.numpy()\n",
        "    # De-normalize predictions and true values\n",
        "    preds = preds * std + mean\n",
        "    true = true * std + mean\n",
        "    mse_list.append(mean_squared_error(true, preds))\n",
        "    mae_list.append(mean_absolute_error(true, preds))\n",
        "    mape_list.append(np.mean(np.abs((true - preds) / (true + 1e-5))) * 100)\n",
        "\n",
        "print(\"\\n📊 Federated Model Evaluation (averaged across clients):\")\n",
        "print(f\"MSE  = {np.mean(mse_list):.4f}\")\n",
        "print(f\"MAE  = {np.mean(mae_list):.4f}\")\n",
        "print(f\"MAPE = {np.mean(mape_list):.2f}%\")\n"
      ],
      "metadata": {
        "colab": {
          "base_uri": "https://localhost:8080/"
        },
        "id": "b5P2LFDw9ea_",
        "outputId": "d3d91453-a72e-4287-bf03-e8bed093745c"
      },
      "execution_count": null,
      "outputs": [
        {
          "output_type": "stream",
          "name": "stdout",
          "text": [
            "\n",
            "🌐 Federated Round 1/5\n",
            "✔️ Client 7-1012 trained\n",
            "✔️ Client 7-1013 trained\n",
            "✔️ Client 7-1021 trained\n",
            "✔️ Client 7-1043 trained\n",
            "✔️ Client 7-1019 trained\n",
            "✔️ Client 7-1071 trained\n",
            "✔️ Client 7-1113 trained\n",
            "✔️ Client 7-1048 trained\n",
            "✔️ Client 7-1101 trained\n",
            "✔️ Client 7-1026 trained\n",
            "✔️ Client 7-1129 trained\n",
            "✔️ Client 7-112 trained\n",
            "✔️ Client 7-100 trained\n",
            "✔️ Client 7-111 trained\n",
            "✔️ Client 7-1030 trained\n",
            "✔️ Client 7-1117 trained\n",
            "✔️ Client 7-1126 trained\n",
            "✔️ Client 7-1099 trained\n",
            "✔️ Client 7-1052 trained\n",
            "✔️ Client 7-1087 trained\n",
            "✔️ Client 7-108 trained\n",
            "✔️ Client 7-1022 trained\n",
            "✔️ Client 7-1018 trained\n",
            "✔️ Client 7-1059 trained\n",
            "✔️ Client 7-1054 trained\n",
            "✔️ Client 7-110 trained\n",
            "✔️ Client 7-1058 trained\n",
            "✔️ Client 7-1094 trained\n",
            "✔️ Client 7-1064 trained\n",
            "✔️ Client 7-102 trained\n",
            "✔️ Client 7-1044 trained\n",
            "✔️ Client 7-1002 trained\n",
            "✔️ Client 7-1096 trained\n",
            "✔️ Client 7-1014 trained\n",
            "✔️ Client 7-1082 trained\n",
            "✔️ Client 7-1088 trained\n",
            "✔️ Client 7-1106 trained\n",
            "✔️ Client 7-1063 trained\n",
            "✔️ Client 7-1114 trained\n",
            "✔️ Client 7-1137 trained\n",
            "✔️ Client 7-1004 trained\n",
            "✔️ Client 7-1045 trained\n",
            "✔️ Client 7-1125 trained\n",
            "✔️ Client 7-1036 trained\n",
            "✔️ Client 7-1124 trained\n",
            "✔️ Client 7-1034 trained\n",
            "✔️ Client 7-1083 trained\n",
            "✔️ Client 7-1072 trained\n",
            "✔️ Client 7-1033 trained\n",
            "✔️ Client 7-1069 trained\n",
            "✔️ Client 7-1127 trained\n",
            "✔️ Client 7-1005 trained\n",
            "✔️ Client 7-1130 trained\n",
            "✔️ Client 7-1047 trained\n",
            "✔️ Client 7-1020 trained\n",
            "✔️ Client 7-1066 trained\n",
            "✔️ Client 7-1039 trained\n",
            "✔️ Client 7-1134 trained\n",
            "✔️ Client 7-1003 trained\n",
            "✔️ Client 7-1120 trained\n",
            "✔️ Client 7-1131 trained\n",
            "✔️ Client 7-1009 trained\n",
            "✔️ Client 7-1084 trained\n",
            "✔️ Client 7-1074 trained\n",
            "✔️ Client 7-1062 trained\n",
            "✔️ Client 7-1025 trained\n",
            "✔️ Client 7-1089 trained\n",
            "✔️ Client 7-1098 trained\n",
            "✔️ Client 7-1006 trained\n",
            "✔️ Client 7-1139 trained\n",
            "✔️ Client 7-10 trained\n",
            "✔️ Client 7-1133 trained\n",
            "✔️ Client 7-1060 trained\n",
            "✔️ Client 7-1032 trained\n",
            "✔️ Client 7-106 trained\n",
            "✔️ Client 7-1057 trained\n",
            "✔️ Client 7-101 trained\n",
            "✔️ Client 7-1102 trained\n",
            "✔️ Client 7-1085 trained\n",
            "✔️ Client 7-1053 trained\n",
            "✔️ Client 7-107 trained\n",
            "✔️ Client 7-1121 trained\n",
            "✔️ Client 7-1023 trained\n",
            "✔️ Client 7-1097 trained\n",
            "✔️ Client 7-1050 trained\n",
            "✔️ Client 7-1037 trained\n",
            "✔️ Client 7-11 trained\n",
            "✔️ Client 7-1136 trained\n",
            "✔️ Client 7-1040 trained\n",
            "✔️ Client 7-1015 trained\n",
            "✔️ Client 7-1079 trained\n",
            "✔️ Client 7-1065 trained\n",
            "✔️ Client 7-1104 trained\n",
            "✔️ Client 7-105 trained\n",
            "✔️ Client 7-103 trained\n",
            "✔️ Client 7-1100 trained\n",
            "✔️ Client 7-1056 trained\n",
            "✔️ Client 7-1051 trained\n",
            "✔️ Client 7-114 trained\n",
            "✔️ Client 7-104 trained\n",
            "\n",
            "🌐 Federated Round 2/5\n",
            "✔️ Client 7-1012 trained\n",
            "✔️ Client 7-1013 trained\n",
            "✔️ Client 7-1021 trained\n",
            "✔️ Client 7-1043 trained\n",
            "✔️ Client 7-1019 trained\n",
            "✔️ Client 7-1071 trained\n",
            "✔️ Client 7-1113 trained\n",
            "✔️ Client 7-1048 trained\n",
            "✔️ Client 7-1101 trained\n",
            "✔️ Client 7-1026 trained\n",
            "✔️ Client 7-1129 trained\n",
            "✔️ Client 7-112 trained\n",
            "✔️ Client 7-100 trained\n",
            "✔️ Client 7-111 trained\n",
            "✔️ Client 7-1030 trained\n",
            "✔️ Client 7-1117 trained\n",
            "✔️ Client 7-1126 trained\n",
            "✔️ Client 7-1099 trained\n",
            "✔️ Client 7-1052 trained\n",
            "✔️ Client 7-1087 trained\n",
            "✔️ Client 7-108 trained\n",
            "✔️ Client 7-1022 trained\n",
            "✔️ Client 7-1018 trained\n",
            "✔️ Client 7-1059 trained\n",
            "✔️ Client 7-1054 trained\n",
            "✔️ Client 7-110 trained\n",
            "✔️ Client 7-1058 trained\n",
            "✔️ Client 7-1094 trained\n",
            "✔️ Client 7-1064 trained\n",
            "✔️ Client 7-102 trained\n",
            "✔️ Client 7-1044 trained\n",
            "✔️ Client 7-1002 trained\n",
            "✔️ Client 7-1096 trained\n",
            "✔️ Client 7-1014 trained\n",
            "✔️ Client 7-1082 trained\n",
            "✔️ Client 7-1088 trained\n",
            "✔️ Client 7-1106 trained\n",
            "✔️ Client 7-1063 trained\n",
            "✔️ Client 7-1114 trained\n",
            "✔️ Client 7-1137 trained\n",
            "✔️ Client 7-1004 trained\n",
            "✔️ Client 7-1045 trained\n",
            "✔️ Client 7-1125 trained\n",
            "✔️ Client 7-1036 trained\n",
            "✔️ Client 7-1124 trained\n",
            "✔️ Client 7-1034 trained\n",
            "✔️ Client 7-1083 trained\n",
            "✔️ Client 7-1072 trained\n",
            "✔️ Client 7-1033 trained\n",
            "✔️ Client 7-1069 trained\n",
            "✔️ Client 7-1127 trained\n",
            "✔️ Client 7-1005 trained\n",
            "✔️ Client 7-1130 trained\n",
            "✔️ Client 7-1047 trained\n",
            "✔️ Client 7-1020 trained\n",
            "✔️ Client 7-1066 trained\n",
            "✔️ Client 7-1039 trained\n",
            "✔️ Client 7-1134 trained\n",
            "✔️ Client 7-1003 trained\n",
            "✔️ Client 7-1120 trained\n",
            "✔️ Client 7-1131 trained\n",
            "✔️ Client 7-1009 trained\n",
            "✔️ Client 7-1084 trained\n",
            "✔️ Client 7-1074 trained\n",
            "✔️ Client 7-1062 trained\n",
            "✔️ Client 7-1025 trained\n",
            "✔️ Client 7-1089 trained\n",
            "✔️ Client 7-1098 trained\n",
            "✔️ Client 7-1006 trained\n",
            "✔️ Client 7-1139 trained\n",
            "✔️ Client 7-10 trained\n",
            "✔️ Client 7-1133 trained\n",
            "✔️ Client 7-1060 trained\n",
            "✔️ Client 7-1032 trained\n",
            "✔️ Client 7-106 trained\n",
            "✔️ Client 7-1057 trained\n",
            "✔️ Client 7-101 trained\n",
            "✔️ Client 7-1102 trained\n",
            "✔️ Client 7-1085 trained\n",
            "✔️ Client 7-1053 trained\n",
            "✔️ Client 7-107 trained\n",
            "✔️ Client 7-1121 trained\n",
            "✔️ Client 7-1023 trained\n",
            "✔️ Client 7-1097 trained\n",
            "✔️ Client 7-1050 trained\n",
            "✔️ Client 7-1037 trained\n",
            "✔️ Client 7-11 trained\n",
            "✔️ Client 7-1136 trained\n",
            "✔️ Client 7-1040 trained\n",
            "✔️ Client 7-1015 trained\n",
            "✔️ Client 7-1079 trained\n",
            "✔️ Client 7-1065 trained\n",
            "✔️ Client 7-1104 trained\n",
            "✔️ Client 7-105 trained\n",
            "✔️ Client 7-103 trained\n",
            "✔️ Client 7-1100 trained\n",
            "✔️ Client 7-1056 trained\n",
            "✔️ Client 7-1051 trained\n",
            "✔️ Client 7-114 trained\n",
            "✔️ Client 7-104 trained\n",
            "\n",
            "🌐 Federated Round 3/5\n",
            "✔️ Client 7-1012 trained\n",
            "✔️ Client 7-1013 trained\n",
            "✔️ Client 7-1021 trained\n",
            "✔️ Client 7-1043 trained\n",
            "✔️ Client 7-1019 trained\n",
            "✔️ Client 7-1071 trained\n",
            "✔️ Client 7-1113 trained\n",
            "✔️ Client 7-1048 trained\n",
            "✔️ Client 7-1101 trained\n",
            "✔️ Client 7-1026 trained\n",
            "✔️ Client 7-1129 trained\n",
            "✔️ Client 7-112 trained\n",
            "✔️ Client 7-100 trained\n",
            "✔️ Client 7-111 trained\n",
            "✔️ Client 7-1030 trained\n",
            "✔️ Client 7-1117 trained\n",
            "✔️ Client 7-1126 trained\n",
            "✔️ Client 7-1099 trained\n",
            "✔️ Client 7-1052 trained\n",
            "✔️ Client 7-1087 trained\n",
            "✔️ Client 7-108 trained\n",
            "✔️ Client 7-1022 trained\n",
            "✔️ Client 7-1018 trained\n",
            "✔️ Client 7-1059 trained\n",
            "✔️ Client 7-1054 trained\n",
            "✔️ Client 7-110 trained\n",
            "✔️ Client 7-1058 trained\n",
            "✔️ Client 7-1094 trained\n",
            "✔️ Client 7-1064 trained\n",
            "✔️ Client 7-102 trained\n",
            "✔️ Client 7-1044 trained\n",
            "✔️ Client 7-1002 trained\n",
            "✔️ Client 7-1096 trained\n",
            "✔️ Client 7-1014 trained\n",
            "✔️ Client 7-1082 trained\n",
            "✔️ Client 7-1088 trained\n",
            "✔️ Client 7-1106 trained\n",
            "✔️ Client 7-1063 trained\n",
            "✔️ Client 7-1114 trained\n",
            "✔️ Client 7-1137 trained\n",
            "✔️ Client 7-1004 trained\n",
            "✔️ Client 7-1045 trained\n",
            "✔️ Client 7-1125 trained\n",
            "✔️ Client 7-1036 trained\n",
            "✔️ Client 7-1124 trained\n",
            "✔️ Client 7-1034 trained\n",
            "✔️ Client 7-1083 trained\n",
            "✔️ Client 7-1072 trained\n",
            "✔️ Client 7-1033 trained\n",
            "✔️ Client 7-1069 trained\n",
            "✔️ Client 7-1127 trained\n",
            "✔️ Client 7-1005 trained\n",
            "✔️ Client 7-1130 trained\n",
            "✔️ Client 7-1047 trained\n",
            "✔️ Client 7-1020 trained\n",
            "✔️ Client 7-1066 trained\n",
            "✔️ Client 7-1039 trained\n",
            "✔️ Client 7-1134 trained\n",
            "✔️ Client 7-1003 trained\n",
            "✔️ Client 7-1120 trained\n",
            "✔️ Client 7-1131 trained\n",
            "✔️ Client 7-1009 trained\n",
            "✔️ Client 7-1084 trained\n",
            "✔️ Client 7-1074 trained\n",
            "✔️ Client 7-1062 trained\n",
            "✔️ Client 7-1025 trained\n",
            "✔️ Client 7-1089 trained\n",
            "✔️ Client 7-1098 trained\n",
            "✔️ Client 7-1006 trained\n",
            "✔️ Client 7-1139 trained\n",
            "✔️ Client 7-10 trained\n",
            "✔️ Client 7-1133 trained\n",
            "✔️ Client 7-1060 trained\n",
            "✔️ Client 7-1032 trained\n",
            "✔️ Client 7-106 trained\n",
            "✔️ Client 7-1057 trained\n",
            "✔️ Client 7-101 trained\n",
            "✔️ Client 7-1102 trained\n",
            "✔️ Client 7-1085 trained\n",
            "✔️ Client 7-1053 trained\n",
            "✔️ Client 7-107 trained\n",
            "✔️ Client 7-1121 trained\n",
            "✔️ Client 7-1023 trained\n",
            "✔️ Client 7-1097 trained\n",
            "✔️ Client 7-1050 trained\n",
            "✔️ Client 7-1037 trained\n",
            "✔️ Client 7-11 trained\n",
            "✔️ Client 7-1136 trained\n",
            "✔️ Client 7-1040 trained\n",
            "✔️ Client 7-1015 trained\n",
            "✔️ Client 7-1079 trained\n",
            "✔️ Client 7-1065 trained\n",
            "✔️ Client 7-1104 trained\n",
            "✔️ Client 7-105 trained\n",
            "✔️ Client 7-103 trained\n",
            "✔️ Client 7-1100 trained\n",
            "✔️ Client 7-1056 trained\n",
            "✔️ Client 7-1051 trained\n",
            "✔️ Client 7-114 trained\n",
            "✔️ Client 7-104 trained\n",
            "\n",
            "🌐 Federated Round 4/5\n",
            "✔️ Client 7-1012 trained\n",
            "✔️ Client 7-1013 trained\n",
            "✔️ Client 7-1021 trained\n",
            "✔️ Client 7-1043 trained\n",
            "✔️ Client 7-1019 trained\n",
            "✔️ Client 7-1071 trained\n",
            "✔️ Client 7-1113 trained\n",
            "✔️ Client 7-1048 trained\n",
            "✔️ Client 7-1101 trained\n",
            "✔️ Client 7-1026 trained\n",
            "✔️ Client 7-1129 trained\n",
            "✔️ Client 7-112 trained\n",
            "✔️ Client 7-100 trained\n",
            "✔️ Client 7-111 trained\n",
            "✔️ Client 7-1030 trained\n",
            "✔️ Client 7-1117 trained\n",
            "✔️ Client 7-1126 trained\n",
            "✔️ Client 7-1099 trained\n",
            "✔️ Client 7-1052 trained\n",
            "✔️ Client 7-1087 trained\n",
            "✔️ Client 7-108 trained\n",
            "✔️ Client 7-1022 trained\n",
            "✔️ Client 7-1018 trained\n",
            "✔️ Client 7-1059 trained\n",
            "✔️ Client 7-1054 trained\n",
            "✔️ Client 7-110 trained\n",
            "✔️ Client 7-1058 trained\n",
            "✔️ Client 7-1094 trained\n",
            "✔️ Client 7-1064 trained\n",
            "✔️ Client 7-102 trained\n",
            "✔️ Client 7-1044 trained\n",
            "✔️ Client 7-1002 trained\n",
            "✔️ Client 7-1096 trained\n",
            "✔️ Client 7-1014 trained\n",
            "✔️ Client 7-1082 trained\n",
            "✔️ Client 7-1088 trained\n",
            "✔️ Client 7-1106 trained\n",
            "✔️ Client 7-1063 trained\n",
            "✔️ Client 7-1114 trained\n",
            "✔️ Client 7-1137 trained\n",
            "✔️ Client 7-1004 trained\n",
            "✔️ Client 7-1045 trained\n",
            "✔️ Client 7-1125 trained\n",
            "✔️ Client 7-1036 trained\n",
            "✔️ Client 7-1124 trained\n",
            "✔️ Client 7-1034 trained\n",
            "✔️ Client 7-1083 trained\n",
            "✔️ Client 7-1072 trained\n",
            "✔️ Client 7-1033 trained\n",
            "✔️ Client 7-1069 trained\n",
            "✔️ Client 7-1127 trained\n",
            "✔️ Client 7-1005 trained\n",
            "✔️ Client 7-1130 trained\n",
            "✔️ Client 7-1047 trained\n",
            "✔️ Client 7-1020 trained\n",
            "✔️ Client 7-1066 trained\n",
            "✔️ Client 7-1039 trained\n",
            "✔️ Client 7-1134 trained\n",
            "✔️ Client 7-1003 trained\n",
            "✔️ Client 7-1120 trained\n",
            "✔️ Client 7-1131 trained\n",
            "✔️ Client 7-1009 trained\n",
            "✔️ Client 7-1084 trained\n",
            "✔️ Client 7-1074 trained\n",
            "✔️ Client 7-1062 trained\n",
            "✔️ Client 7-1025 trained\n",
            "✔️ Client 7-1089 trained\n",
            "✔️ Client 7-1098 trained\n",
            "✔️ Client 7-1006 trained\n",
            "✔️ Client 7-1139 trained\n",
            "✔️ Client 7-10 trained\n",
            "✔️ Client 7-1133 trained\n",
            "✔️ Client 7-1060 trained\n",
            "✔️ Client 7-1032 trained\n",
            "✔️ Client 7-106 trained\n",
            "✔️ Client 7-1057 trained\n",
            "✔️ Client 7-101 trained\n",
            "✔️ Client 7-1102 trained\n",
            "✔️ Client 7-1085 trained\n",
            "✔️ Client 7-1053 trained\n",
            "✔️ Client 7-107 trained\n",
            "✔️ Client 7-1121 trained\n",
            "✔️ Client 7-1023 trained\n",
            "✔️ Client 7-1097 trained\n",
            "✔️ Client 7-1050 trained\n",
            "✔️ Client 7-1037 trained\n",
            "✔️ Client 7-11 trained\n",
            "✔️ Client 7-1136 trained\n",
            "✔️ Client 7-1040 trained\n",
            "✔️ Client 7-1015 trained\n",
            "✔️ Client 7-1079 trained\n",
            "✔️ Client 7-1065 trained\n",
            "✔️ Client 7-1104 trained\n",
            "✔️ Client 7-105 trained\n",
            "✔️ Client 7-103 trained\n",
            "✔️ Client 7-1100 trained\n",
            "✔️ Client 7-1056 trained\n",
            "✔️ Client 7-1051 trained\n",
            "✔️ Client 7-114 trained\n",
            "✔️ Client 7-104 trained\n",
            "\n",
            "🌐 Federated Round 5/5\n",
            "✔️ Client 7-1012 trained\n",
            "✔️ Client 7-1013 trained\n",
            "✔️ Client 7-1021 trained\n",
            "✔️ Client 7-1043 trained\n",
            "✔️ Client 7-1019 trained\n",
            "✔️ Client 7-1071 trained\n",
            "✔️ Client 7-1113 trained\n",
            "✔️ Client 7-1048 trained\n",
            "✔️ Client 7-1101 trained\n",
            "✔️ Client 7-1026 trained\n",
            "✔️ Client 7-1129 trained\n",
            "✔️ Client 7-112 trained\n",
            "✔️ Client 7-100 trained\n",
            "✔️ Client 7-111 trained\n",
            "✔️ Client 7-1030 trained\n",
            "✔️ Client 7-1117 trained\n",
            "✔️ Client 7-1126 trained\n",
            "✔️ Client 7-1099 trained\n",
            "✔️ Client 7-1052 trained\n",
            "✔️ Client 7-1087 trained\n",
            "✔️ Client 7-108 trained\n",
            "✔️ Client 7-1022 trained\n",
            "✔️ Client 7-1018 trained\n",
            "✔️ Client 7-1059 trained\n",
            "✔️ Client 7-1054 trained\n",
            "✔️ Client 7-110 trained\n",
            "✔️ Client 7-1058 trained\n",
            "✔️ Client 7-1094 trained\n",
            "✔️ Client 7-1064 trained\n",
            "✔️ Client 7-102 trained\n",
            "✔️ Client 7-1044 trained\n",
            "✔️ Client 7-1002 trained\n",
            "✔️ Client 7-1096 trained\n",
            "✔️ Client 7-1014 trained\n",
            "✔️ Client 7-1082 trained\n",
            "✔️ Client 7-1088 trained\n",
            "✔️ Client 7-1106 trained\n",
            "✔️ Client 7-1063 trained\n",
            "✔️ Client 7-1114 trained\n",
            "✔️ Client 7-1137 trained\n",
            "✔️ Client 7-1004 trained\n",
            "✔️ Client 7-1045 trained\n",
            "✔️ Client 7-1125 trained\n",
            "✔️ Client 7-1036 trained\n",
            "✔️ Client 7-1124 trained\n",
            "✔️ Client 7-1034 trained\n",
            "✔️ Client 7-1083 trained\n",
            "✔️ Client 7-1072 trained\n",
            "✔️ Client 7-1033 trained\n",
            "✔️ Client 7-1069 trained\n",
            "✔️ Client 7-1127 trained\n",
            "✔️ Client 7-1005 trained\n",
            "✔️ Client 7-1130 trained\n",
            "✔️ Client 7-1047 trained\n",
            "✔️ Client 7-1020 trained\n",
            "✔️ Client 7-1066 trained\n",
            "✔️ Client 7-1039 trained\n",
            "✔️ Client 7-1134 trained\n",
            "✔️ Client 7-1003 trained\n",
            "✔️ Client 7-1120 trained\n",
            "✔️ Client 7-1131 trained\n",
            "✔️ Client 7-1009 trained\n",
            "✔️ Client 7-1084 trained\n",
            "✔️ Client 7-1074 trained\n",
            "✔️ Client 7-1062 trained\n",
            "✔️ Client 7-1025 trained\n",
            "✔️ Client 7-1089 trained\n",
            "✔️ Client 7-1098 trained\n",
            "✔️ Client 7-1006 trained\n",
            "✔️ Client 7-1139 trained\n",
            "✔️ Client 7-10 trained\n",
            "✔️ Client 7-1133 trained\n",
            "✔️ Client 7-1060 trained\n",
            "✔️ Client 7-1032 trained\n",
            "✔️ Client 7-106 trained\n",
            "✔️ Client 7-1057 trained\n",
            "✔️ Client 7-101 trained\n",
            "✔️ Client 7-1102 trained\n",
            "✔️ Client 7-1085 trained\n",
            "✔️ Client 7-1053 trained\n",
            "✔️ Client 7-107 trained\n",
            "✔️ Client 7-1121 trained\n",
            "✔️ Client 7-1023 trained\n",
            "✔️ Client 7-1097 trained\n",
            "✔️ Client 7-1050 trained\n",
            "✔️ Client 7-1037 trained\n",
            "✔️ Client 7-11 trained\n",
            "✔️ Client 7-1136 trained\n",
            "✔️ Client 7-1040 trained\n",
            "✔️ Client 7-1015 trained\n",
            "✔️ Client 7-1079 trained\n",
            "✔️ Client 7-1065 trained\n",
            "✔️ Client 7-1104 trained\n",
            "✔️ Client 7-105 trained\n",
            "✔️ Client 7-103 trained\n",
            "✔️ Client 7-1100 trained\n",
            "✔️ Client 7-1056 trained\n",
            "✔️ Client 7-1051 trained\n",
            "✔️ Client 7-114 trained\n",
            "✔️ Client 7-104 trained\n",
            "\n",
            "📊 Federated Model Evaluation (averaged across clients):\n",
            "MSE  = 14408246874.0307\n",
            "MAE  = 41645.1283\n",
            "MAPE = 9727358314.68%\n"
          ]
        }
      ]
    },
    {
      "cell_type": "markdown",
      "source": [
        "### Exercise 6 (EXTRA):\n",
        "\n",
        "Reconsider your design to improve the accuracy of your model. For that, you can find a better approach to split the data (e.g., using larger observation windows) and include additional features."
      ],
      "metadata": {
        "id": "LafMStmKfW4-"
      }
    },
    {
      "cell_type": "code",
      "source": [
        "# (response to exercise 6)"
      ],
      "metadata": {
        "id": "2Eb3K84dgTb1"
      },
      "execution_count": null,
      "outputs": []
    }
  ]
}