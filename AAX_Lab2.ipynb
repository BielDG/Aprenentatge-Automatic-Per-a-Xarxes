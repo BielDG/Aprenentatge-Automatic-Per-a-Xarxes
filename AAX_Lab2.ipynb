{
  "cells": [
    {
      "cell_type": "markdown",
      "metadata": {
        "id": "ShbB8CxBMSLH"
      },
      "source": [
        "#ML4Net - Lab 2\n",
        "\n",
        "## Team members\n",
        "\n",
        "Jan Sapé Rivero (266912) | Biel Domingo Grifell (268636) | Francesc Xarrie (266708)\n",
        "\n",
        "## Description\n",
        "\n",
        "In this lab, you will implement an ML model that detects congestion in Wi-Fi networks. In particular, you will desing and implement a supervised learning model (e.g., linear regression, multi-layer perceptron, neural network), which you will train using a dataset that was generated using the ns-3 simulator.\n",
        "\n",
        "Each row in the dataset is organized as (x1, x2, ..., x26, y1, y2, ..., y26, s, r, l), where:\n",
        "\n",
        "* `x1, x2..., x26, y1, y2, ..., y26` represent the histogram of the Inter-Frame Space (IFS) values for M frames that accessed the medium in a 60 seconds observation sample.\n",
        "  * `x26` represents the maximum IFS duration (in ms) in the considered M frames whereas `x1` is `x26`/26\n",
        "  * The remaining `xi` values are buckets at uniform spacing between `x1` and `x26`.\n",
        "  * For i>1, the values of `yi` represent the IFS histogram count (in percentage) for a corresponding bucket interval between `xi`-1 and `xi`.\n",
        "  * In the case of `y1`, the bucket interval is between 0 and `x1`\n",
        "* `s` is the average IFS duration (in ms)\n",
        "* `r` is the percentage of frame collisions\n",
        "* `l` is the label, where 1 indicates that the network is saturated, and 0, that it is not\n",
        "\n",
        "Original dataset: https://ieee-dataport.org/documents/dataset-identification-saturated-and-unsaturated-wi-fi-networks\n",
        "\n",
        "## Instructions\n",
        "\n",
        "*   Follow the steps from this Notebook and complete the proposed exercises.\n",
        "*   Deliver the completed Notebook by uploading it to your Github repository.\n",
        "*   Submission deadline: 25 May 2025 (EoB)."
      ]
    },
    {
      "cell_type": "markdown",
      "metadata": {
        "id": "Lqio72iAuxNJ"
      },
      "source": [
        "## Setting up the environment"
      ]
    },
    {
      "cell_type": "markdown",
      "metadata": {
        "id": "hfR6f_lHpklt"
      },
      "source": [
        "1. Connect your Google Drive"
      ]
    },
    {
      "cell_type": "code",
      "execution_count": 1,
      "metadata": {
        "colab": {
          "base_uri": "https://localhost:8080/"
        },
        "id": "Nl_xYKv2oYRb",
        "outputId": "1f155f8c-cc30-4bae-c7db-b9e230a67f7b"
      },
      "outputs": [
        {
          "output_type": "stream",
          "name": "stdout",
          "text": [
            "Mounted at /content/drive\n"
          ]
        }
      ],
      "source": [
        "from google.colab import drive\n",
        "drive.mount('/content/drive')"
      ]
    },
    {
      "cell_type": "markdown",
      "metadata": {
        "id": "RQxCHlkswbru"
      },
      "source": [
        "2. Download the dataset"
      ]
    },
    {
      "cell_type": "code",
      "execution_count": 2,
      "metadata": {
        "colab": {
          "base_uri": "https://localhost:8080/"
        },
        "collapsed": true,
        "id": "o6I9dNnpwbUB",
        "outputId": "848e8a44-2820-425b-94b9-63b5a2006528"
      },
      "outputs": [
        {
          "output_type": "stream",
          "name": "stdout",
          "text": [
            "--2025-06-01 20:16:46--  https://github.com/fwilhelmi/fwilhelmi.github.io/raw/refs/heads/master/files/dataset_Lab2.zip\n",
            "Resolving github.com (github.com)... 140.82.116.4\n",
            "Connecting to github.com (github.com)|140.82.116.4|:443... connected.\n",
            "HTTP request sent, awaiting response... 302 Found\n",
            "Location: https://raw.githubusercontent.com/fwilhelmi/fwilhelmi.github.io/refs/heads/master/files/dataset_Lab2.zip [following]\n",
            "--2025-06-01 20:16:47--  https://raw.githubusercontent.com/fwilhelmi/fwilhelmi.github.io/refs/heads/master/files/dataset_Lab2.zip\n",
            "Resolving raw.githubusercontent.com (raw.githubusercontent.com)... 185.199.108.133, 185.199.109.133, 185.199.110.133, ...\n",
            "Connecting to raw.githubusercontent.com (raw.githubusercontent.com)|185.199.108.133|:443... connected.\n",
            "HTTP request sent, awaiting response... 200 OK\n",
            "Length: 1803279 (1.7M) [application/zip]\n",
            "Saving to: ‘dataset_Lab2.zip’\n",
            "\n",
            "dataset_Lab2.zip    100%[===================>]   1.72M  --.-KB/s    in 0.05s   \n",
            "\n",
            "2025-06-01 20:16:47 (35.3 MB/s) - ‘dataset_Lab2.zip’ saved [1803279/1803279]\n",
            "\n"
          ]
        }
      ],
      "source": [
        "!wget https://github.com/fwilhelmi/fwilhelmi.github.io/raw/refs/heads/master/files/dataset_Lab2.zip"
      ]
    },
    {
      "cell_type": "markdown",
      "metadata": {
        "id": "-5ZtSumzuZCy"
      },
      "source": [
        "3. Define the main path of the code"
      ]
    },
    {
      "cell_type": "code",
      "execution_count": 3,
      "metadata": {
        "id": "VYfdaJF-qr5w"
      },
      "outputs": [],
      "source": [
        "mypath=\"drive/MyDrive/AAX/Lab2\""
      ]
    },
    {
      "cell_type": "markdown",
      "metadata": {
        "id": "ISnLhobTwh7l"
      },
      "source": [
        "4. Extract the source code to the destination folder"
      ]
    },
    {
      "cell_type": "code",
      "execution_count": 4,
      "metadata": {
        "colab": {
          "base_uri": "https://localhost:8080/"
        },
        "collapsed": true,
        "id": "rgEgC4fZwiLf",
        "outputId": "084ec660-c4e0-4f53-d5be-2923547069e2"
      },
      "outputs": [
        {
          "output_type": "stream",
          "name": "stdout",
          "text": [
            "Archive:  dataset_Lab2.zip\n",
            "  inflating: test_data.csv           \n",
            "  inflating: __MACOSX/._test_data.csv  \n",
            "  inflating: train_data.csv          \n",
            "  inflating: __MACOSX/._train_data.csv  \n"
          ]
        }
      ],
      "source": [
        "mkdir $mypath; cp dataset_Lab2.zip $mypath; cd $mypath; unzip dataset_Lab2.zip"
      ]
    },
    {
      "cell_type": "markdown",
      "metadata": {
        "id": "97kVtaWOutFD"
      },
      "source": [
        "## Visualizing the data\n",
        "\n",
        "\n"
      ]
    },
    {
      "cell_type": "code",
      "execution_count": 5,
      "metadata": {
        "colab": {
          "base_uri": "https://localhost:8080/",
          "height": 946
        },
        "id": "Rn9zlRDcenHJ",
        "outputId": "91149764-968a-4a95-b798-ca6e27601715"
      },
      "outputs": [
        {
          "output_type": "stream",
          "name": "stdout",
          "text": [
            "       0       1       2       3       4       5       6       7       8   \\\n",
            "0  0.0065  0.0130  0.0195  0.0260  0.0325  0.0390  0.0455  0.0520  0.0585   \n",
            "1  0.0263  0.0526  0.0789  0.1052  0.1316  0.1579  0.1842  0.2105  0.2368   \n",
            "2  0.0176  0.0352  0.0528  0.0704  0.0881  0.1057  0.1233  0.1409  0.1585   \n",
            "3  0.0222  0.0444  0.0666  0.0888  0.1110  0.1332  0.1554  0.1776  0.1998   \n",
            "4  0.0189  0.0379  0.0568  0.0758  0.0947  0.1137  0.1326  0.1516  0.1705   \n",
            "\n",
            "       9   ...      45      46      47      48      49      50      51  \\\n",
            "0  0.0650  ...  0.0316  0.0368  0.0312  0.0000  0.0316  0.0364  0.0304   \n",
            "1  0.2631  ...  0.0316  0.0368  0.0312  0.0000  0.0316  0.0364  0.0304   \n",
            "2  0.1761  ...  0.0316  0.0368  0.0312  0.0312  0.0316  0.0299  0.0304   \n",
            "3  0.2220  ...  0.0316  0.0307  0.0312  0.0000  0.0360  0.0364  0.0304   \n",
            "4  0.1895  ...  0.0316  0.0368  0.0312  0.0000  0.0316  0.0364  0.0304   \n",
            "\n",
            "       52      53  54  \n",
            "0  0.0604  0.9960   1  \n",
            "1  0.0604  0.9960   1  \n",
            "2  0.0604  0.9957   1  \n",
            "3  0.0604  0.9900   1  \n",
            "4  0.0604  0.9862   1  \n",
            "\n",
            "[5 rows x 55 columns]\n"
          ]
        },
        {
          "output_type": "display_data",
          "data": {
            "text/plain": [
              "<Figure size 1000x600 with 1 Axes>"
            ],
            "image/png": "[encoded data removed]"
          },
          "metadata": {}
        }
      ],
      "source": [
        "import matplotlib.pyplot as plt\n",
        "import numpy as np\n",
        "import pandas as pd\n",
        "\n",
        "def plot_ifs_histogram(data_row):\n",
        "    \"\"\"\n",
        "    Plots the Inter-Frame Space (IFS) histogram from a single row of the dataset.\n",
        "\n",
        "    Args:\n",
        "        data_row (list or numpy.ndarray): A list or array representing a single row\n",
        "                                          in the format (x1, ..., x26, y1, ..., y26, s, r, l).\n",
        "    \"\"\"\n",
        "\n",
        "    # Get IFS values and the corresponding counts\n",
        "    x_values = np.array(data_row[:26])\n",
        "    y_counts = np.array(data_row[26:52])\n",
        "\n",
        "    # Calculate the bin edges based on x_values\n",
        "    bin_edges = [0] + list(x_values)\n",
        "\n",
        "    # Create the histogram plot\n",
        "    plt.figure(figsize=(10, 6))\n",
        "    plt.bar(bin_edges[:-1], y_counts, width=np.diff(bin_edges)[0], align='edge', alpha=0.7)\n",
        "\n",
        "    # Add labels and title\n",
        "    plt.xlabel(\"IFS Duration (ms)\")\n",
        "    plt.ylabel(\"Counts\")\n",
        "    plt.title(\"Inter-Frame Space (IFS) Histogram\")\n",
        "    plt.grid(axis='y', linestyle='--')\n",
        "\n",
        "    # Show the plot\n",
        "    plt.show()\n",
        "\n",
        "# Example usage\n",
        "\n",
        "# -> Read the data file\n",
        "file_name = mypath + '/train_data.csv'\n",
        "train_data_df = pd.read_csv(file_name, header=None)\n",
        "print(train_data_df.head())\n",
        "\n",
        "# -> Get a sample from the dataset and plot it\n",
        "row_index = 1\n",
        "sample_data = train_data_df.iloc[row_index].values\n",
        "plot_ifs_histogram(sample_data)"
      ]
    },
    {
      "cell_type": "markdown",
      "metadata": {
        "id": "bTAXUX5lN9KF"
      },
      "source": [
        "## EXERCISES"
      ]
    },
    {
      "cell_type": "markdown",
      "metadata": {
        "id": "weqFFp6eShJg"
      },
      "source": [
        "### Exercise 1:\n",
        "Define an approach for training and validating the model you are going to train with the proposed data. Then, perform the split accordingly."
      ]
    },
    {
      "cell_type": "markdown",
      "source": [
        "To prepare the data for model training and evaluation, we first load the dataset and extract the relevant features, which include the IFS histogram values (x1 to x26, y1 to y26), along with the average IFS duration (s) and the collision percentage (r). Before any training, we reserve 20% of the dataset as a separate test set to evaluate the model’s final performance on unseen data. The remaining 80% is used for training and validation. These features are normalized using standard scaling to ensure consistent input ranges for the learning algorithm. We then apply Stratified K-Fold Cross-Validation with 5 splits on the training portion to maintain the proportion of saturated and non-saturated samples in each fold. This approach allows the model to be trained and validated across different data subsets while preserving class balance, resulting in a more reliable estimate of its performance during development.\n",
        "\n",
        "\n",
        "\n",
        "\n",
        "\n",
        "\n",
        "\n"
      ],
      "metadata": {
        "id": "fMEXCmuCORqR"
      }
    },
    {
      "cell_type": "code",
      "execution_count": 15,
      "metadata": {
        "colab": {
          "base_uri": "https://localhost:8080/"
        },
        "id": "o3tirZCOSkNC",
        "outputId": "6aab57fa-824b-4c88-c8a9-a5a36783aa4b"
      },
      "outputs": [
        {
          "output_type": "stream",
          "name": "stdout",
          "text": [
            "Fold 1\n",
            "  -> Training set size: (12800, 54)\n",
            "  -> Validation set size: (3200, 54)\n",
            "  -> Saturated in train: 6399 / 12800\n",
            "  -> Saturated in val: 1600 / 3200\n",
            "----------------------------------------\n",
            "Fold 2\n",
            "  -> Training set size: (12800, 54)\n",
            "  -> Validation set size: (3200, 54)\n",
            "  -> Saturated in train: 6399 / 12800\n",
            "  -> Saturated in val: 1600 / 3200\n",
            "----------------------------------------\n",
            "Fold 3\n",
            "  -> Training set size: (12800, 54)\n",
            "  -> Validation set size: (3200, 54)\n",
            "  -> Saturated in train: 6399 / 12800\n",
            "  -> Saturated in val: 1600 / 3200\n",
            "----------------------------------------\n",
            "Fold 4\n",
            "  -> Training set size: (12800, 54)\n",
            "  -> Validation set size: (3200, 54)\n",
            "  -> Saturated in train: 6399 / 12800\n",
            "  -> Saturated in val: 1600 / 3200\n",
            "----------------------------------------\n",
            "Fold 5\n",
            "  -> Training set size: (12800, 54)\n",
            "  -> Validation set size: (3200, 54)\n",
            "  -> Saturated in train: 6400 / 12800\n",
            "  -> Saturated in val: 1599 / 3200\n",
            "----------------------------------------\n"
          ]
        }
      ],
      "source": [
        "import pandas as pd\n",
        "import numpy as np\n",
        "from sklearn.model_selection import StratifiedKFold, train_test_split\n",
        "from sklearn.preprocessing import StandardScaler\n",
        "\n",
        "# === Load Full Dataset ===\n",
        "file_name = mypath + '/train_data.csv'\n",
        "df = pd.read_csv(file_name, header=None)\n",
        "\n",
        "# === Step 1: Split off 20% Test Set ===\n",
        "df_trainval, df_test = train_test_split(\n",
        "    df, test_size=0.2, random_state=42, stratify=df.iloc[:, 54]\n",
        ")\n",
        "\n",
        "# === Step 2: Prepare Features and Labels for Train/Val ===\n",
        "X = df_trainval.iloc[:, :52].copy()\n",
        "X[52] = df_trainval.iloc[:, 52]  # s\n",
        "X[53] = df_trainval.iloc[:, 53]  # r\n",
        "X.columns = X.columns.astype(str)\n",
        "\n",
        "y = df_trainval.iloc[:, 54]\n",
        "\n",
        "# === Step 3: Normalize Features ===\n",
        "scaler = StandardScaler()\n",
        "X_scaled = scaler.fit_transform(X)\n",
        "\n",
        "# === Step 4: Stratified K-Fold Split ===\n",
        "skf = StratifiedKFold(n_splits=5, shuffle=True, random_state=42)\n",
        "\n",
        "# === Step 5: Show Fold Info ===\n",
        "for fold, (train_idx, val_idx) in enumerate(skf.split(X_scaled, y)):\n",
        "    X_train, X_val = X_scaled[train_idx], X_scaled[val_idx]\n",
        "    y_train, y_val = y.iloc[train_idx], y.iloc[val_idx]\n",
        "\n",
        "    print(f\"Fold {fold + 1}\")\n",
        "    print(\"  -> Training set size:\", X_train.shape)\n",
        "    print(\"  -> Validation set size:\", X_val.shape)\n",
        "    print(\"  -> Saturated in train:\", sum(y_train), \"/\", len(y_train))\n",
        "    print(\"  -> Saturated in val:\", sum(y_val), \"/\", len(y_val))\n",
        "    print(\"-\" * 40)\n",
        "\n",
        "# ✅ Save df_test for later (Exercise 6)\n",
        "# You can store this in memory or save to CSV if needed:\n",
        "# df_test.to_csv(\"test_data.csv\", index=False)\n",
        "\n",
        "\n"
      ]
    },
    {
      "cell_type": "markdown",
      "metadata": {
        "id": "E3vAU830SmuR"
      },
      "source": [
        "### Exercise 2:\n",
        "\n",
        "Define your ML model, so that it can be called for training and test. Examples of approaches that you could use (but not limited to):\n",
        "\n",
        "*   Logistic Regression\n",
        "*   K-Nearest Neighbors (KNN)\n",
        "*   Decision Trees or Random Forests\n",
        "*   Convolutional Neural Network (CNN)"
      ]
    },
    {
      "cell_type": "markdown",
      "source": [
        "In this exercise, we apply a Random Forest classifier to predict Wi-Fi network congestion using features derived from the Inter-Frame Space (IFS) histogram, average IFS duration, and collision percentage. This approach is effective for structured data, as Random Forests can model complex patterns and handle feature interactions well without requiring extensive preprocessing. The model is trained on part of the dataset and evaluated on a separate validation fold to assess its accuracy and generalization. Its ability to manage overfitting through depth control and ensemble averaging makes it a suitable choice for this task."
      ],
      "metadata": {
        "id": "NXeMVw79Km5h"
      }
    },
    {
      "cell_type": "code",
      "execution_count": 16,
      "metadata": {
        "id": "PTjjIcWDS3yC"
      },
      "outputs": [],
      "source": [
        "# (response to exercise 2)\n",
        "from sklearn.ensemble import RandomForestClassifier\n",
        "from sklearn.metrics import accuracy_score, classification_report\n",
        "\n",
        "def train_and_evaluate_model(X_train, y_train, X_val, y_val):\n",
        "    \"\"\"\n",
        "    Trains and evaluates a Random Forest model on the given training and validation data.\n",
        "    \"\"\"\n",
        "\n",
        "    # Define the model\n",
        "    model = RandomForestClassifier(\n",
        "        n_estimators=100,     # Number of trees\n",
        "        max_depth=10,         # Limit depth to reduce overfitting\n",
        "        random_state=42\n",
        "    )\n",
        "\n",
        "    # Train the model\n",
        "    model.fit(X_train, y_train)\n",
        "\n",
        "    # Predict on validation set\n",
        "    y_pred = model.predict(X_val)\n",
        "\n",
        "    # Evaluate\n",
        "    accuracy = accuracy_score(y_val, y_pred)\n",
        "    report = classification_report(y_val, y_pred, target_names=[\"Not Saturated\", \"Saturated\"])\n",
        "\n",
        "    print(f\"Validation Accuracy: {accuracy:.4f}\")\n",
        "    print(report)\n",
        "\n",
        "    return model\n"
      ]
    },
    {
      "cell_type": "code",
      "execution_count": 17,
      "metadata": {
        "colab": {
          "base_uri": "https://localhost:8080/"
        },
        "id": "Kjt1Mge-5UOV",
        "outputId": "436be33e-0548-485f-c9fc-3bf4275bf91f"
      },
      "outputs": [
        {
          "output_type": "stream",
          "name": "stdout",
          "text": [
            "Validation Accuracy: 0.9972\n",
            "               precision    recall  f1-score   support\n",
            "\n",
            "Not Saturated       1.00      1.00      1.00      1600\n",
            "    Saturated       1.00      1.00      1.00      1600\n",
            "\n",
            "     accuracy                           1.00      3200\n",
            "    macro avg       1.00      1.00      1.00      3200\n",
            " weighted avg       1.00      1.00      1.00      3200\n",
            "\n"
          ]
        }
      ],
      "source": [
        "# Just one fold for demo\n",
        "for train_idx, val_idx in skf.split(X_scaled, y):\n",
        "    X_train = X_scaled[train_idx]\n",
        "    X_val = X_scaled[val_idx]\n",
        "    y_train = y.iloc[train_idx]\n",
        "    y_val = y.iloc[val_idx]\n",
        "\n",
        "    # Train and evaluate\n",
        "    model = train_and_evaluate_model(X_train, y_train, X_val, y_val)\n",
        "    break  # remove this to run for all folds\n"
      ]
    },
    {
      "cell_type": "code",
      "execution_count": 18,
      "metadata": {
        "id": "OAKH0Xe555Yd"
      },
      "outputs": [],
      "source": [
        "import numpy as np\n",
        "import tensorflow as tf\n",
        "from tensorflow.keras.models import Model\n",
        "from tensorflow.keras.layers import Input, Conv1D, MaxPooling1D, Flatten, Dense, Concatenate\n",
        "from sklearn.model_selection import train_test_split\n",
        "from sklearn.preprocessing import StandardScaler\n",
        "\n",
        "# 1. Split histogram and summary features\n",
        "def preprocess_data(X):\n",
        "    # X: [n_samples, 54]\n",
        "    X = np.array(X)\n",
        "\n",
        "    # Histogram part (y1–y26), assume these are at cols 26:52\n",
        "    hist = X[:, 26:52]\n",
        "    hist = hist.reshape(-1, 26, 1)  # for 1D CNN\n",
        "\n",
        "    # Summary features: s and r (cols 52, 53)\n",
        "    summary = X[:, 52:54]\n",
        "\n",
        "    return hist, summary\n",
        "\n",
        "# 2. Build 1D CNN\n",
        "def build_cnn_model():\n",
        "    # Input for histogram\n",
        "    hist_input = Input(shape=(26, 1), name='hist_input')\n",
        "    x = Conv1D(filters=32, kernel_size=3, activation='relu')(hist_input)\n",
        "    x = MaxPooling1D(pool_size=2)(x)\n",
        "    x = Flatten()(x)\n",
        "\n",
        "    # Input for summary features\n",
        "    summary_input = Input(shape=(2,), name='summary_input')\n",
        "\n",
        "    # Combine both\n",
        "    combined = Concatenate()([x, summary_input])\n",
        "    dense = Dense(64, activation='relu')(combined)\n",
        "    output = Dense(1, activation='sigmoid')(dense)\n",
        "\n",
        "    model = Model(inputs=[hist_input, summary_input], outputs=output)\n",
        "    model.compile(optimizer='adam', loss='binary_crossentropy', metrics=['accuracy'])\n",
        "    return model\n"
      ]
    },
    {
      "cell_type": "code",
      "execution_count": 19,
      "metadata": {
        "colab": {
          "base_uri": "https://localhost:8080/",
          "height": 813
        },
        "id": "vR8Qqy_n59bj",
        "outputId": "98b1b3f0-768e-40f7-c273-d5832768e0f8"
      },
      "outputs": [
        {
          "output_type": "display_data",
          "data": {
            "text/plain": [
              "\u001b[1mModel: \"functional_1\"\u001b[0m\n"
            ],
            "text/html": [
              "<pre style=\"white-space:pre;overflow-x:auto;line-height:normal;font-family:Menlo,'DejaVu Sans Mono',consolas,'Courier New',monospace\"><span style=\"font-weight: bold\">Model: \"functional_1\"</span>\n",
              "</pre>\n"
            ]
          },
          "metadata": {}
        },
        {
          "output_type": "display_data",
          "data": {
            "text/plain": [
              "┏━━━━━━━━━━━━━━━━━━━━━┳━━━━━━━━━━━━━━━━━━━┳━━━━━━━━━━━━┳━━━━━━━━━━━━━━━━━━━┓\n",
              "┃\u001b[1m \u001b[0m\u001b[1mLayer (type)       \u001b[0m\u001b[1m \u001b[0m┃\u001b[1m \u001b[0m\u001b[1mOutput Shape     \u001b[0m\u001b[1m \u001b[0m┃\u001b[1m \u001b[0m\u001b[1m   Param #\u001b[0m\u001b[1m \u001b[0m┃\u001b[1m \u001b[0m\u001b[1mConnected to     \u001b[0m\u001b[1m \u001b[0m┃\n",
              "┡━━━━━━━━━━━━━━━━━━━━━╇━━━━━━━━━━━━━━━━━━━╇━━━━━━━━━━━━╇━━━━━━━━━━━━━━━━━━━┩\n",
              "│ hist_input          │ (\u001b[38;5;45mNone\u001b[0m, \u001b[38;5;34m26\u001b[0m, \u001b[38;5;34m1\u001b[0m)     │          \u001b[38;5;34m0\u001b[0m │ -                 │\n",
              "│ (\u001b[38;5;33mInputLayer\u001b[0m)        │                   │            │                   │\n",
              "├─────────────────────┼───────────────────┼────────────┼───────────────────┤\n",
              "│ conv1d_1 (\u001b[38;5;33mConv1D\u001b[0m)   │ (\u001b[38;5;45mNone\u001b[0m, \u001b[38;5;34m24\u001b[0m, \u001b[38;5;34m32\u001b[0m)    │        \u001b[38;5;34m128\u001b[0m │ hist_input[\u001b[38;5;34m0\u001b[0m][\u001b[38;5;34m0\u001b[0m]  │\n",
              "├─────────────────────┼───────────────────┼────────────┼───────────────────┤\n",
              "│ max_pooling1d_1     │ (\u001b[38;5;45mNone\u001b[0m, \u001b[38;5;34m12\u001b[0m, \u001b[38;5;34m32\u001b[0m)    │          \u001b[38;5;34m0\u001b[0m │ conv1d_1[\u001b[38;5;34m0\u001b[0m][\u001b[38;5;34m0\u001b[0m]    │\n",
              "│ (\u001b[38;5;33mMaxPooling1D\u001b[0m)      │                   │            │                   │\n",
              "├─────────────────────┼───────────────────┼────────────┼───────────────────┤\n",
              "│ flatten_1 (\u001b[38;5;33mFlatten\u001b[0m) │ (\u001b[38;5;45mNone\u001b[0m, \u001b[38;5;34m384\u001b[0m)       │          \u001b[38;5;34m0\u001b[0m │ max_pooling1d_1[\u001b[38;5;34m…\u001b[0m │\n",
              "├─────────────────────┼───────────────────┼────────────┼───────────────────┤\n",
              "│ summary_input       │ (\u001b[38;5;45mNone\u001b[0m, \u001b[38;5;34m2\u001b[0m)         │          \u001b[38;5;34m0\u001b[0m │ -                 │\n",
              "│ (\u001b[38;5;33mInputLayer\u001b[0m)        │                   │            │                   │\n",
              "├─────────────────────┼───────────────────┼────────────┼───────────────────┤\n",
              "│ concatenate_1       │ (\u001b[38;5;45mNone\u001b[0m, \u001b[38;5;34m386\u001b[0m)       │          \u001b[38;5;34m0\u001b[0m │ flatten_1[\u001b[38;5;34m0\u001b[0m][\u001b[38;5;34m0\u001b[0m],  │\n",
              "│ (\u001b[38;5;33mConcatenate\u001b[0m)       │                   │            │ summary_input[\u001b[38;5;34m0\u001b[0m]… │\n",
              "├─────────────────────┼───────────────────┼────────────┼───────────────────┤\n",
              "│ dense_2 (\u001b[38;5;33mDense\u001b[0m)     │ (\u001b[38;5;45mNone\u001b[0m, \u001b[38;5;34m64\u001b[0m)        │     \u001b[38;5;34m24,768\u001b[0m │ concatenate_1[\u001b[38;5;34m0\u001b[0m]… │\n",
              "├─────────────────────┼───────────────────┼────────────┼───────────────────┤\n",
              "│ dense_3 (\u001b[38;5;33mDense\u001b[0m)     │ (\u001b[38;5;45mNone\u001b[0m, \u001b[38;5;34m1\u001b[0m)         │         \u001b[38;5;34m65\u001b[0m │ dense_2[\u001b[38;5;34m0\u001b[0m][\u001b[38;5;34m0\u001b[0m]     │\n",
              "└─────────────────────┴───────────────────┴────────────┴───────────────────┘\n"
            ],
            "text/html": [
              "<pre style=\"white-space:pre;overflow-x:auto;line-height:normal;font-family:Menlo,'DejaVu Sans Mono',consolas,'Courier New',monospace\">┏━━━━━━━━━━━━━━━━━━━━━┳━━━━━━━━━━━━━━━━━━━┳━━━━━━━━━━━━┳━━━━━━━━━━━━━━━━━━━┓\n",
              "┃<span style=\"font-weight: bold\"> Layer (type)        </span>┃<span style=\"font-weight: bold\"> Output Shape      </span>┃<span style=\"font-weight: bold\">    Param # </span>┃<span style=\"font-weight: bold\"> Connected to      </span>┃\n",
              "┡━━━━━━━━━━━━━━━━━━━━━╇━━━━━━━━━━━━━━━━━━━╇━━━━━━━━━━━━╇━━━━━━━━━━━━━━━━━━━┩\n",
              "│ hist_input          │ (<span style=\"color: #00d7ff; text-decoration-color: #00d7ff\">None</span>, <span style=\"color: #00af00; text-decoration-color: #00af00\">26</span>, <span style=\"color: #00af00; text-decoration-color: #00af00\">1</span>)     │          <span style=\"color: #00af00; text-decoration-color: #00af00\">0</span> │ -                 │\n",
              "│ (<span style=\"color: #0087ff; text-decoration-color: #0087ff\">InputLayer</span>)        │                   │            │                   │\n",
              "├─────────────────────┼───────────────────┼────────────┼───────────────────┤\n",
              "│ conv1d_1 (<span style=\"color: #0087ff; text-decoration-color: #0087ff\">Conv1D</span>)   │ (<span style=\"color: #00d7ff; text-decoration-color: #00d7ff\">None</span>, <span style=\"color: #00af00; text-decoration-color: #00af00\">24</span>, <span style=\"color: #00af00; text-decoration-color: #00af00\">32</span>)    │        <span style=\"color: #00af00; text-decoration-color: #00af00\">128</span> │ hist_input[<span style=\"color: #00af00; text-decoration-color: #00af00\">0</span>][<span style=\"color: #00af00; text-decoration-color: #00af00\">0</span>]  │\n",
              "├─────────────────────┼───────────────────┼────────────┼───────────────────┤\n",
              "│ max_pooling1d_1     │ (<span style=\"color: #00d7ff; text-decoration-color: #00d7ff\">None</span>, <span style=\"color: #00af00; text-decoration-color: #00af00\">12</span>, <span style=\"color: #00af00; text-decoration-color: #00af00\">32</span>)    │          <span style=\"color: #00af00; text-decoration-color: #00af00\">0</span> │ conv1d_1[<span style=\"color: #00af00; text-decoration-color: #00af00\">0</span>][<span style=\"color: #00af00; text-decoration-color: #00af00\">0</span>]    │\n",
              "│ (<span style=\"color: #0087ff; text-decoration-color: #0087ff\">MaxPooling1D</span>)      │                   │            │                   │\n",
              "├─────────────────────┼───────────────────┼────────────┼───────────────────┤\n",
              "│ flatten_1 (<span style=\"color: #0087ff; text-decoration-color: #0087ff\">Flatten</span>) │ (<span style=\"color: #00d7ff; text-decoration-color: #00d7ff\">None</span>, <span style=\"color: #00af00; text-decoration-color: #00af00\">384</span>)       │          <span style=\"color: #00af00; text-decoration-color: #00af00\">0</span> │ max_pooling1d_1[<span style=\"color: #00af00; text-decoration-color: #00af00\">…</span> │\n",
              "├─────────────────────┼───────────────────┼────────────┼───────────────────┤\n",
              "│ summary_input       │ (<span style=\"color: #00d7ff; text-decoration-color: #00d7ff\">None</span>, <span style=\"color: #00af00; text-decoration-color: #00af00\">2</span>)         │          <span style=\"color: #00af00; text-decoration-color: #00af00\">0</span> │ -                 │\n",
              "│ (<span style=\"color: #0087ff; text-decoration-color: #0087ff\">InputLayer</span>)        │                   │            │                   │\n",
              "├─────────────────────┼───────────────────┼────────────┼───────────────────┤\n",
              "│ concatenate_1       │ (<span style=\"color: #00d7ff; text-decoration-color: #00d7ff\">None</span>, <span style=\"color: #00af00; text-decoration-color: #00af00\">386</span>)       │          <span style=\"color: #00af00; text-decoration-color: #00af00\">0</span> │ flatten_1[<span style=\"color: #00af00; text-decoration-color: #00af00\">0</span>][<span style=\"color: #00af00; text-decoration-color: #00af00\">0</span>],  │\n",
              "│ (<span style=\"color: #0087ff; text-decoration-color: #0087ff\">Concatenate</span>)       │                   │            │ summary_input[<span style=\"color: #00af00; text-decoration-color: #00af00\">0</span>]… │\n",
              "├─────────────────────┼───────────────────┼────────────┼───────────────────┤\n",
              "│ dense_2 (<span style=\"color: #0087ff; text-decoration-color: #0087ff\">Dense</span>)     │ (<span style=\"color: #00d7ff; text-decoration-color: #00d7ff\">None</span>, <span style=\"color: #00af00; text-decoration-color: #00af00\">64</span>)        │     <span style=\"color: #00af00; text-decoration-color: #00af00\">24,768</span> │ concatenate_1[<span style=\"color: #00af00; text-decoration-color: #00af00\">0</span>]… │\n",
              "├─────────────────────┼───────────────────┼────────────┼───────────────────┤\n",
              "│ dense_3 (<span style=\"color: #0087ff; text-decoration-color: #0087ff\">Dense</span>)     │ (<span style=\"color: #00d7ff; text-decoration-color: #00d7ff\">None</span>, <span style=\"color: #00af00; text-decoration-color: #00af00\">1</span>)         │         <span style=\"color: #00af00; text-decoration-color: #00af00\">65</span> │ dense_2[<span style=\"color: #00af00; text-decoration-color: #00af00\">0</span>][<span style=\"color: #00af00; text-decoration-color: #00af00\">0</span>]     │\n",
              "└─────────────────────┴───────────────────┴────────────┴───────────────────┘\n",
              "</pre>\n"
            ]
          },
          "metadata": {}
        },
        {
          "output_type": "display_data",
          "data": {
            "text/plain": [
              "\u001b[1m Total params: \u001b[0m\u001b[38;5;34m24,961\u001b[0m (97.50 KB)\n"
            ],
            "text/html": [
              "<pre style=\"white-space:pre;overflow-x:auto;line-height:normal;font-family:Menlo,'DejaVu Sans Mono',consolas,'Courier New',monospace\"><span style=\"font-weight: bold\"> Total params: </span><span style=\"color: #00af00; text-decoration-color: #00af00\">24,961</span> (97.50 KB)\n",
              "</pre>\n"
            ]
          },
          "metadata": {}
        },
        {
          "output_type": "display_data",
          "data": {
            "text/plain": [
              "\u001b[1m Trainable params: \u001b[0m\u001b[38;5;34m24,961\u001b[0m (97.50 KB)\n"
            ],
            "text/html": [
              "<pre style=\"white-space:pre;overflow-x:auto;line-height:normal;font-family:Menlo,'DejaVu Sans Mono',consolas,'Courier New',monospace\"><span style=\"font-weight: bold\"> Trainable params: </span><span style=\"color: #00af00; text-decoration-color: #00af00\">24,961</span> (97.50 KB)\n",
              "</pre>\n"
            ]
          },
          "metadata": {}
        },
        {
          "output_type": "display_data",
          "data": {
            "text/plain": [
              "\u001b[1m Non-trainable params: \u001b[0m\u001b[38;5;34m0\u001b[0m (0.00 B)\n"
            ],
            "text/html": [
              "<pre style=\"white-space:pre;overflow-x:auto;line-height:normal;font-family:Menlo,'DejaVu Sans Mono',consolas,'Courier New',monospace\"><span style=\"font-weight: bold\"> Non-trainable params: </span><span style=\"color: #00af00; text-decoration-color: #00af00\">0</span> (0.00 B)\n",
              "</pre>\n"
            ]
          },
          "metadata": {}
        },
        {
          "output_type": "stream",
          "name": "stdout",
          "text": [
            "Epoch 1/10\n",
            "\u001b[1m400/400\u001b[0m \u001b[32m━━━━━━━━━━━━━━━━━━━━\u001b[0m\u001b[37m\u001b[0m \u001b[1m5s\u001b[0m 8ms/step - accuracy: 0.9229 - loss: 0.2255 - val_accuracy: 0.9753 - val_loss: 0.0768\n",
            "Epoch 2/10\n",
            "\u001b[1m400/400\u001b[0m \u001b[32m━━━━━━━━━━━━━━━━━━━━\u001b[0m\u001b[37m\u001b[0m \u001b[1m2s\u001b[0m 4ms/step - accuracy: 0.9799 - loss: 0.0607 - val_accuracy: 0.9797 - val_loss: 0.0545\n",
            "Epoch 3/10\n",
            "\u001b[1m400/400\u001b[0m \u001b[32m━━━━━━━━━━━━━━━━━━━━\u001b[0m\u001b[37m\u001b[0m \u001b[1m2s\u001b[0m 4ms/step - accuracy: 0.9847 - loss: 0.0443 - val_accuracy: 0.9837 - val_loss: 0.0399\n",
            "Epoch 4/10\n",
            "\u001b[1m400/400\u001b[0m \u001b[32m━━━━━━━━━━━━━━━━━━━━\u001b[0m\u001b[37m\u001b[0m \u001b[1m1s\u001b[0m 4ms/step - accuracy: 0.9868 - loss: 0.0340 - val_accuracy: 0.9800 - val_loss: 0.0416\n",
            "Epoch 5/10\n",
            "\u001b[1m400/400\u001b[0m \u001b[32m━━━━━━━━━━━━━━━━━━━━\u001b[0m\u001b[37m\u001b[0m \u001b[1m3s\u001b[0m 5ms/step - accuracy: 0.9864 - loss: 0.0363 - val_accuracy: 0.9862 - val_loss: 0.0339\n",
            "Epoch 6/10\n",
            "\u001b[1m400/400\u001b[0m \u001b[32m━━━━━━━━━━━━━━━━━━━━\u001b[0m\u001b[37m\u001b[0m \u001b[1m3s\u001b[0m 7ms/step - accuracy: 0.9874 - loss: 0.0303 - val_accuracy: 0.9878 - val_loss: 0.0296\n",
            "Epoch 7/10\n",
            "\u001b[1m400/400\u001b[0m \u001b[32m━━━━━━━━━━━━━━━━━━━━\u001b[0m\u001b[37m\u001b[0m \u001b[1m4s\u001b[0m 4ms/step - accuracy: 0.9880 - loss: 0.0290 - val_accuracy: 0.9878 - val_loss: 0.0296\n",
            "Epoch 8/10\n",
            "\u001b[1m400/400\u001b[0m \u001b[32m━━━━━━━━━━━━━━━━━━━━\u001b[0m\u001b[37m\u001b[0m \u001b[1m3s\u001b[0m 5ms/step - accuracy: 0.9875 - loss: 0.0312 - val_accuracy: 0.9884 - val_loss: 0.0289\n",
            "Epoch 9/10\n",
            "\u001b[1m400/400\u001b[0m \u001b[32m━━━━━━━━━━━━━━━━━━━━\u001b[0m\u001b[37m\u001b[0m \u001b[1m2s\u001b[0m 4ms/step - accuracy: 0.9915 - loss: 0.0240 - val_accuracy: 0.9869 - val_loss: 0.0291\n",
            "Epoch 10/10\n",
            "\u001b[1m400/400\u001b[0m \u001b[32m━━━━━━━━━━━━━━━━━━━━\u001b[0m\u001b[37m\u001b[0m \u001b[1m2s\u001b[0m 4ms/step - accuracy: 0.9890 - loss: 0.0277 - val_accuracy: 0.9872 - val_loss: 0.0285\n"
          ]
        },
        {
          "output_type": "execute_result",
          "data": {
            "text/plain": [
              "<keras.src.callbacks.history.History at 0x7f4831e42190>"
            ]
          },
          "metadata": {},
          "execution_count": 19
        }
      ],
      "source": [
        "# Assume you already have X_scaled and y\n",
        "hist_X, summary_X = preprocess_data(X_scaled)\n",
        "y_array = np.array(y)\n",
        "\n",
        "# Train/test split\n",
        "X_train_hist, X_val_hist, X_train_sum, X_val_sum, y_train, y_val = train_test_split(\n",
        "    hist_X, summary_X, y_array, test_size=0.2, random_state=42, stratify=y_array\n",
        ")\n",
        "\n",
        "# Build and train model\n",
        "cnn_model = build_cnn_model()\n",
        "cnn_model.summary()\n",
        "\n",
        "cnn_model.fit(\n",
        "    [X_train_hist, X_train_sum], y_train,\n",
        "    validation_data=([X_val_hist, X_val_sum], y_val),\n",
        "    epochs=10,\n",
        "    batch_size=32\n",
        ")\n"
      ]
    },
    {
      "cell_type": "markdown",
      "metadata": {
        "id": "7hgfWEriSpMa"
      },
      "source": [
        "### Exercise 3:\n",
        "\n",
        "Define the hyperparameters that you will use to train the model."
      ]
    },
    {
      "cell_type": "markdown",
      "source": [
        "To train our convolutional model, we selected a set of hyperparameters designed to effectively capture relevant patterns in the data while maintaining good generalization. We use 32 filters in the Conv1D layer, as this provides enough capacity to detect meaningful local structures in the IFS histogram without introducing excessive complexity. A kernel size of 3 allows the model to observe short sequences within the histogram, which can be indicative of network behavior. The max pooling layer with a pool size of 2 reduces the output size, helping to prevent overfitting and improve computational efficiency. We include a dense layer with 64 units after combining the histogram and summary features to enable the model to learn complex interactions. For training, we use a batch size of 32, which offers a good trade-off between convergence speed and stability. The model is trained for up to 30 epochs, with early stopping (patience of 5 epochs) to halt training if no improvement is observed, avoiding unnecessary computation and overfitting. These choices reflect a balance between model expressiveness and practical training efficiency.\n",
        "\n",
        "\n",
        "\n",
        "\n",
        "\n",
        "\n",
        "\n"
      ],
      "metadata": {
        "id": "mdsJKHj6O6jg"
      }
    },
    {
      "cell_type": "code",
      "execution_count": 20,
      "metadata": {
        "id": "PqgnnqflZ8R3"
      },
      "outputs": [],
      "source": [
        "# (response to exercise 3)\n",
        "\n",
        "# === Hyperparameters ===\n",
        "\n",
        "# CNN architecture\n",
        "NUM_FILTERS = 32          # Number of filters in Conv1D\n",
        "KERNEL_SIZE = 3           # Kernel size for Conv1D\n",
        "POOL_SIZE = 2             # Pool size for MaxPooling1D\n",
        "DENSE_UNITS = 64          # Units in the fully connected layer\n",
        "\n",
        "# Training parameters\n",
        "BATCH_SIZE = 32\n",
        "EPOCHS = 30\n",
        "PATIENCE = 5              # For EarlyStopping\n",
        "RANDOM_STATE = 42         # For reproducibility\n",
        "\n",
        "# Input shapes\n",
        "HIST_SHAPE = (26, 1)      # Shape of histogram input\n",
        "SUMMARY_SHAPE = (2,)      # Shape of summary features (s, r)\n",
        "\n",
        "\n"
      ]
    },
    {
      "cell_type": "markdown",
      "metadata": {
        "id": "zGXDiQQEZ5vL"
      },
      "source": [
        "### Exercise 4:\n",
        "Train the model and show the procedure (e.g., evolution of the training/validation loss)."
      ]
    },
    {
      "cell_type": "code",
      "execution_count": 21,
      "metadata": {
        "colab": {
          "base_uri": "https://localhost:8080/",
          "height": 1000
        },
        "id": "8AhYwVhNfWGA",
        "outputId": "1d04e9b8-8c1e-4590-93ad-f4af632353b3"
      },
      "outputs": [
        {
          "output_type": "stream",
          "name": "stdout",
          "text": [
            "Epoch 1/30\n",
            "\u001b[1m400/400\u001b[0m \u001b[32m━━━━━━━━━━━━━━━━━━━━\u001b[0m\u001b[37m\u001b[0m \u001b[1m1s\u001b[0m 3ms/step - accuracy: 0.9902 - loss: 0.0238 - val_accuracy: 0.9875 - val_loss: 0.0288\n",
            "Epoch 2/30\n",
            "\u001b[1m400/400\u001b[0m \u001b[32m━━━━━━━━━━━━━━━━━━━━\u001b[0m\u001b[37m\u001b[0m \u001b[1m1s\u001b[0m 3ms/step - accuracy: 0.9921 - loss: 0.0230 - val_accuracy: 0.9872 - val_loss: 0.0253\n",
            "Epoch 3/30\n",
            "\u001b[1m400/400\u001b[0m \u001b[32m━━━━━━━━━━━━━━━━━━━━\u001b[0m\u001b[37m\u001b[0m \u001b[1m2s\u001b[0m 4ms/step - accuracy: 0.9908 - loss: 0.0234 - val_accuracy: 0.9872 - val_loss: 0.0316\n",
            "Epoch 4/30\n",
            "\u001b[1m400/400\u001b[0m \u001b[32m━━━━━━━━━━━━━━━━━━━━\u001b[0m\u001b[37m\u001b[0m \u001b[1m3s\u001b[0m 5ms/step - accuracy: 0.9907 - loss: 0.0238 - val_accuracy: 0.9909 - val_loss: 0.0237\n",
            "Epoch 5/30\n",
            "\u001b[1m400/400\u001b[0m \u001b[32m━━━━━━━━━━━━━━━━━━━━\u001b[0m\u001b[37m\u001b[0m \u001b[1m2s\u001b[0m 4ms/step - accuracy: 0.9918 - loss: 0.0214 - val_accuracy: 0.9903 - val_loss: 0.0239\n",
            "Epoch 6/30\n",
            "\u001b[1m400/400\u001b[0m \u001b[32m━━━━━━━━━━━━━━━━━━━━\u001b[0m\u001b[37m\u001b[0m \u001b[1m3s\u001b[0m 6ms/step - accuracy: 0.9923 - loss: 0.0198 - val_accuracy: 0.9891 - val_loss: 0.0242\n",
            "Epoch 7/30\n",
            "\u001b[1m400/400\u001b[0m \u001b[32m━━━━━━━━━━━━━━━━━━━━\u001b[0m\u001b[37m\u001b[0m \u001b[1m2s\u001b[0m 5ms/step - accuracy: 0.9934 - loss: 0.0190 - val_accuracy: 0.9903 - val_loss: 0.0219\n",
            "Epoch 8/30\n",
            "\u001b[1m400/400\u001b[0m \u001b[32m━━━━━━━━━━━━━━━━━━━━\u001b[0m\u001b[37m\u001b[0m \u001b[1m2s\u001b[0m 4ms/step - accuracy: 0.9928 - loss: 0.0199 - val_accuracy: 0.9900 - val_loss: 0.0247\n",
            "Epoch 9/30\n",
            "\u001b[1m400/400\u001b[0m \u001b[32m━━━━━━━━━━━━━━━━━━━━\u001b[0m\u001b[37m\u001b[0m \u001b[1m3s\u001b[0m 4ms/step - accuracy: 0.9935 - loss: 0.0169 - val_accuracy: 0.9875 - val_loss: 0.0343\n",
            "Epoch 10/30\n",
            "\u001b[1m400/400\u001b[0m \u001b[32m━━━━━━━━━━━━━━━━━━━━\u001b[0m\u001b[37m\u001b[0m \u001b[1m3s\u001b[0m 4ms/step - accuracy: 0.9896 - loss: 0.0226 - val_accuracy: 0.9881 - val_loss: 0.0272\n",
            "Epoch 11/30\n",
            "\u001b[1m400/400\u001b[0m \u001b[32m━━━━━━━━━━━━━━━━━━━━\u001b[0m\u001b[37m\u001b[0m \u001b[1m1s\u001b[0m 3ms/step - accuracy: 0.9923 - loss: 0.0198 - val_accuracy: 0.9894 - val_loss: 0.0228\n",
            "Epoch 12/30\n",
            "\u001b[1m400/400\u001b[0m \u001b[32m━━━━━━━━━━━━━━━━━━━━\u001b[0m\u001b[37m\u001b[0m \u001b[1m2s\u001b[0m 4ms/step - accuracy: 0.9939 - loss: 0.0177 - val_accuracy: 0.9891 - val_loss: 0.0277\n",
            "Epoch 13/30\n",
            "\u001b[1m400/400\u001b[0m \u001b[32m━━━━━━━━━━━━━━━━━━━━\u001b[0m\u001b[37m\u001b[0m \u001b[1m2s\u001b[0m 5ms/step - accuracy: 0.9941 - loss: 0.0158 - val_accuracy: 0.9903 - val_loss: 0.0232\n",
            "Epoch 14/30\n",
            "\u001b[1m400/400\u001b[0m \u001b[32m━━━━━━━━━━━━━━━━━━━━\u001b[0m\u001b[37m\u001b[0m \u001b[1m2s\u001b[0m 3ms/step - accuracy: 0.9925 - loss: 0.0174 - val_accuracy: 0.9891 - val_loss: 0.0260\n",
            "Epoch 15/30\n",
            "\u001b[1m400/400\u001b[0m \u001b[32m━━━━━━━━━━━━━━━━━━━━\u001b[0m\u001b[37m\u001b[0m \u001b[1m3s\u001b[0m 4ms/step - accuracy: 0.9928 - loss: 0.0185 - val_accuracy: 0.9869 - val_loss: 0.0385\n",
            "Epoch 16/30\n",
            "\u001b[1m400/400\u001b[0m \u001b[32m━━━━━━━━━━━━━━━━━━━━\u001b[0m\u001b[37m\u001b[0m \u001b[1m1s\u001b[0m 3ms/step - accuracy: 0.9919 - loss: 0.0206 - val_accuracy: 0.9900 - val_loss: 0.0279\n",
            "Epoch 17/30\n",
            "\u001b[1m400/400\u001b[0m \u001b[32m━━━━━━━━━━━━━━━━━━━━\u001b[0m\u001b[37m\u001b[0m \u001b[1m3s\u001b[0m 4ms/step - accuracy: 0.9934 - loss: 0.0175 - val_accuracy: 0.9894 - val_loss: 0.0276\n",
            "Epoch 18/30\n",
            "\u001b[1m400/400\u001b[0m \u001b[32m━━━━━━━━━━━━━━━━━━━━\u001b[0m\u001b[37m\u001b[0m \u001b[1m3s\u001b[0m 4ms/step - accuracy: 0.9945 - loss: 0.0140 - val_accuracy: 0.9903 - val_loss: 0.0240\n",
            "Epoch 19/30\n",
            "\u001b[1m400/400\u001b[0m \u001b[32m━━━━━━━━━━━━━━━━━━━━\u001b[0m\u001b[37m\u001b[0m \u001b[1m3s\u001b[0m 5ms/step - accuracy: 0.9946 - loss: 0.0148 - val_accuracy: 0.9906 - val_loss: 0.0252\n",
            "Epoch 20/30\n",
            "\u001b[1m400/400\u001b[0m \u001b[32m━━━━━━━━━━━━━━━━━━━━\u001b[0m\u001b[37m\u001b[0m \u001b[1m2s\u001b[0m 4ms/step - accuracy: 0.9948 - loss: 0.0133 - val_accuracy: 0.9909 - val_loss: 0.0230\n",
            "Epoch 21/30\n",
            "\u001b[1m400/400\u001b[0m \u001b[32m━━━━━━━━━━━━━━━━━━━━\u001b[0m\u001b[37m\u001b[0m \u001b[1m2s\u001b[0m 4ms/step - accuracy: 0.9934 - loss: 0.0166 - val_accuracy: 0.9906 - val_loss: 0.0242\n",
            "Epoch 22/30\n",
            "\u001b[1m400/400\u001b[0m \u001b[32m━━━━━━━━━━━━━━━━━━━━\u001b[0m\u001b[37m\u001b[0m \u001b[1m2s\u001b[0m 4ms/step - accuracy: 0.9932 - loss: 0.0153 - val_accuracy: 0.9909 - val_loss: 0.0243\n",
            "Epoch 23/30\n",
            "\u001b[1m400/400\u001b[0m \u001b[32m━━━━━━━━━━━━━━━━━━━━\u001b[0m\u001b[37m\u001b[0m \u001b[1m2s\u001b[0m 4ms/step - accuracy: 0.9944 - loss: 0.0135 - val_accuracy: 0.9900 - val_loss: 0.0212\n",
            "Epoch 24/30\n",
            "\u001b[1m400/400\u001b[0m \u001b[32m━━━━━━━━━━━━━━━━━━━━\u001b[0m\u001b[37m\u001b[0m \u001b[1m3s\u001b[0m 5ms/step - accuracy: 0.9933 - loss: 0.0149 - val_accuracy: 0.9906 - val_loss: 0.0196\n",
            "Epoch 25/30\n",
            "\u001b[1m400/400\u001b[0m \u001b[32m━━━━━━━━━━━━━━━━━━━━\u001b[0m\u001b[37m\u001b[0m \u001b[1m2s\u001b[0m 5ms/step - accuracy: 0.9940 - loss: 0.0132 - val_accuracy: 0.9916 - val_loss: 0.0197\n",
            "Epoch 26/30\n",
            "\u001b[1m400/400\u001b[0m \u001b[32m━━━━━━━━━━━━━━━━━━━━\u001b[0m\u001b[37m\u001b[0m \u001b[1m1s\u001b[0m 3ms/step - accuracy: 0.9939 - loss: 0.0147 - val_accuracy: 0.9922 - val_loss: 0.0255\n",
            "Epoch 27/30\n",
            "\u001b[1m400/400\u001b[0m \u001b[32m━━━━━━━━━━━━━━━━━━━━\u001b[0m\u001b[37m\u001b[0m \u001b[1m3s\u001b[0m 3ms/step - accuracy: 0.9950 - loss: 0.0133 - val_accuracy: 0.9900 - val_loss: 0.0225\n",
            "Epoch 28/30\n",
            "\u001b[1m400/400\u001b[0m \u001b[32m━━━━━━━━━━━━━━━━━━━━\u001b[0m\u001b[37m\u001b[0m \u001b[1m1s\u001b[0m 3ms/step - accuracy: 0.9947 - loss: 0.0124 - val_accuracy: 0.9906 - val_loss: 0.0191\n",
            "Epoch 29/30\n",
            "\u001b[1m400/400\u001b[0m \u001b[32m━━━━━━━━━━━━━━━━━━━━\u001b[0m\u001b[37m\u001b[0m \u001b[1m2s\u001b[0m 4ms/step - accuracy: 0.9949 - loss: 0.0133 - val_accuracy: 0.9925 - val_loss: 0.0187\n",
            "Epoch 30/30\n",
            "\u001b[1m400/400\u001b[0m \u001b[32m━━━━━━━━━━━━━━━━━━━━\u001b[0m\u001b[37m\u001b[0m \u001b[1m1s\u001b[0m 4ms/step - accuracy: 0.9951 - loss: 0.0120 - val_accuracy: 0.9906 - val_loss: 0.0220\n"
          ]
        },
        {
          "output_type": "display_data",
          "data": {
            "text/plain": [
              "<Figure size 1000x400 with 1 Axes>"
            ],
            "image/png": "[encoded data removed]"
          },
          "metadata": {}
        },
        {
          "output_type": "display_data",
          "data": {
            "text/plain": [
              "<Figure size 1000x400 with 1 Axes>"
            ],
            "image/png": "[encoded data removed]"
          },
          "metadata": {}
        }
      ],
      "source": [
        "# (response to exercise 4)\n",
        "\n",
        "# Train model\n",
        "history = cnn_model.fit(\n",
        "    [X_train_hist, X_train_sum], y_train,\n",
        "    validation_data=([X_val_hist, X_val_sum], y_val),\n",
        "    epochs=EPOCHS,\n",
        "    batch_size=BATCH_SIZE,\n",
        "    verbose=1\n",
        ")\n",
        "\n",
        "# Plot Loss\n",
        "plt.figure(figsize=(10, 4))\n",
        "plt.plot(history.history['loss'], label='Train Loss')\n",
        "plt.plot(history.history['val_loss'], label='Validation Loss')\n",
        "plt.title(\"Loss over Epochs\")\n",
        "plt.xlabel(\"Epoch\")\n",
        "plt.ylabel(\"Loss\")\n",
        "plt.legend()\n",
        "plt.grid(True)\n",
        "plt.show()\n",
        "\n",
        "# Plot Accuracy\n",
        "plt.figure(figsize=(10, 4))\n",
        "plt.plot(history.history['accuracy'], label='Train Accuracy')\n",
        "plt.plot(history.history['val_accuracy'], label='Validation Accuracy')\n",
        "plt.title(\"Accuracy over Epochs\")\n",
        "plt.xlabel(\"Epoch\")\n",
        "plt.ylabel(\"Accuracy\")\n",
        "plt.legend()\n",
        "plt.grid(True)\n",
        "plt.show()"
      ]
    },
    {
      "cell_type": "markdown",
      "source": [
        "The training results show that the model reaches high accuracy on both the training and validation sets, which means it is learning to correctly identify whether the network is saturated or not. However, the validation loss goes up and down during training, even though the accuracy stays high. This could mean that the model is making mostly correct predictions, but it is not always confident or consistent in how it does so. Overall, the model performs well, but the changes in validation loss suggest there might be some overfitting or that the validation data is a bit noisy.\n",
        "\n",
        "\n",
        "\n",
        "\n",
        "\n",
        "\n",
        "\n"
      ],
      "metadata": {
        "id": "lttKFzwjRQ54"
      }
    },
    {
      "cell_type": "markdown",
      "metadata": {
        "id": "Uy_SulYKeEn4"
      },
      "source": [
        "### Exercise 5:\n",
        "\n",
        "Select and define the most appropriate evaluation metric(s). Discuss the appropriateness of your evaluation metrics for the binary classification problem we are considering."
      ]
    },
    {
      "cell_type": "markdown",
      "source": [
        "We believe the most appropriate evaluation metrics are accuracy, precision, recall, and F1-score.\n",
        "\n",
        "Accuracy tells us the overall percentage of correct predictions and is useful when classes are balanced.\n",
        "\n",
        "Precision measures how many of the predicted “saturated” cases were actually correct. This is important when false positives (wrongly detecting congestion) are costly.\n",
        "\n",
        "Recall tells us how many of the actual “saturated” cases the model correctly identified. This is important when false negatives (missing actual congestion) are risky.\n",
        "\n",
        "F1-score combines precision and recall into a single value, which is helpful when we want a balance between both.\n",
        "\n",
        "Since the dataset may not be perfectly balanced, relying only on accuracy could be misleading. Including precision, recall, and F1-score gives a clearer and more complete picture of how well the model performs, especially in cases where one class is more important or more frequent than the other. These metrics help ensure that the model not only makes correct predictions overall, but also performs well in detecting both congested and uncongested states."
      ],
      "metadata": {
        "id": "-PdQ4VqoSXhL"
      }
    },
    {
      "cell_type": "markdown",
      "metadata": {
        "id": "LafMStmKfW4-"
      },
      "source": [
        "### Exercise 6:\n",
        "\n",
        "Evaluate your trained model on the test set, using the evaluation metrics that you have proposed. Remember that the test data should have not been seen by the model, so that we can properly estimate of its generalization capabilities."
      ]
    },
    {
      "cell_type": "code",
      "execution_count": 23,
      "metadata": {
        "id": "2Eb3K84dgTb1",
        "colab": {
          "base_uri": "https://localhost:8080/"
        },
        "outputId": "f34ea113-3bbe-47a5-c0ef-7fb382b31f01"
      },
      "outputs": [
        {
          "output_type": "stream",
          "name": "stdout",
          "text": [
            "\u001b[1m125/125\u001b[0m \u001b[32m━━━━━━━━━━━━━━━━━━━━\u001b[0m\u001b[37m\u001b[0m \u001b[1m0s\u001b[0m 2ms/step\n",
            "=== Final Evaluation on Unseen Test Set ===\n",
            "Accuracy:  0.9935\n",
            "Precision: 0.9935\n",
            "Recall:    0.9935\n",
            "F1 Score:  0.9935\n",
            "\n",
            "Classification Report:\n",
            "               precision    recall  f1-score   support\n",
            "\n",
            "Not Saturated       0.99      0.99      0.99      2000\n",
            "    Saturated       0.99      0.99      0.99      2000\n",
            "\n",
            "     accuracy                           0.99      4000\n",
            "    macro avg       0.99      0.99      0.99      4000\n",
            " weighted avg       0.99      0.99      0.99      4000\n",
            "\n"
          ]
        }
      ],
      "source": [
        "from sklearn.metrics import accuracy_score, precision_score, recall_score, f1_score, classification_report\n",
        "\n",
        "# === Step 1: Extract features and label from the test set ===\n",
        "X_test = df_test.iloc[:, :52].copy()\n",
        "X_test[52] = df_test.iloc[:, 52]  # s\n",
        "X_test[53] = df_test.iloc[:, 53]  # r\n",
        "X_test.columns = X_test.columns.astype(str)\n",
        "\n",
        "y_test = df_test.iloc[:, 54].values  # as array for sklearn\n",
        "\n",
        "# === Step 2: Normalize using the scaler from training ===\n",
        "X_test_scaled = scaler.transform(X_test)\n",
        "\n",
        "# === Step 3: Preprocess for CNN (histogram and summary inputs) ===\n",
        "X_test_hist, X_test_sum = preprocess_data(X_test_scaled)\n",
        "\n",
        "# === Step 4: Predict using trained model ===\n",
        "y_pred_probs = cnn_model.predict([X_test_hist, X_test_sum])\n",
        "y_pred = (y_pred_probs > 0.5).astype(int).flatten()\n",
        "\n",
        "# === Step 5: Evaluate ===\n",
        "accuracy = accuracy_score(y_test, y_pred)\n",
        "precision = precision_score(y_test, y_pred)\n",
        "recall = recall_score(y_test, y_pred)\n",
        "f1 = f1_score(y_test, y_pred)\n",
        "\n",
        "print(\"=== Final Evaluation on Unseen Test Set ===\")\n",
        "print(f\"Accuracy:  {accuracy:.4f}\")\n",
        "print(f\"Precision: {precision:.4f}\")\n",
        "print(f\"Recall:    {recall:.4f}\")\n",
        "print(f\"F1 Score:  {f1:.4f}\")\n",
        "print(\"\\nClassification Report:\")\n",
        "print(classification_report(y_test, y_pred, target_names=[\"Not Saturated\", \"Saturated\"]))\n",
        "\n"
      ]
    },
    {
      "cell_type": "markdown",
      "source": [
        "The final evaluation of the model on the unseen test set shows excellent performance across all key metrics. Accuracy, precision, recall, and F1 score all reach 0.9935, indicating that the model is making highly reliable predictions. The classification report confirms strong performance across both classes (“Saturated” and “Not Saturated”), with a perfectly balanced support of 2000 samples each. These consistent results suggest that the model has learned to identify network congestion states with very few errors and no clear bias toward either class. However, the unusually high and uniform scores, along with extremely confident predictions (e.g., probabilities of 0.0000 or 1.0000), may indicate that the model is overfitting slightly or that the dataset contains patterns that are too easily distinguishable."
      ],
      "metadata": {
        "id": "5PQPe6m6XawT"
      }
    }
  ],
  "metadata": {
    "colab": {
      "provenance": []
    },
    "kernelspec": {
      "display_name": "Python 3",
      "name": "python3"
    },
    "language_info": {
      "name": "python"
    }
  },
  "nbformat": 4,
  "nbformat_minor": 0
}